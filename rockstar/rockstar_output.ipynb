{
 "cells": [
  {
   "cell_type": "code",
   "execution_count": null,
   "metadata": {},
   "outputs": [],
   "source": [
    "import numpy as np \n",
    "import matplotlib.pyplot as plt\n",
    "import pandas as pd\n",
    "import h5py\n",
    "\n",
    "from mpl_toolkits.mplot3d import Axes3D\n",
    "\n",
    "import sys\n",
    "sys.path.append(\"/home/habjan.e/TNG/TNG_cluster_dynamics\")\n",
    "import TNG_DA"
   ]
  },
  {
   "cell_type": "markdown",
   "metadata": {},
   "source": [
    "### Pick a cluster index"
   ]
  },
  {
   "cell_type": "code",
   "execution_count": null,
   "metadata": {},
   "outputs": [],
   "source": [
    "cluster_ind = 100"
   ]
  },
  {
   "cell_type": "markdown",
   "metadata": {},
   "source": [
    "### Import subhalo information"
   ]
  },
  {
   "cell_type": "code",
   "execution_count": null,
   "metadata": {},
   "outputs": [],
   "source": [
    "pos, vel, groups, subhalo_masses, h, halo_mass = TNG_DA.get_cluster_props(cluster_ind)"
   ]
  },
  {
   "cell_type": "markdown",
   "metadata": {},
   "source": [
    "### Import particle data"
   ]
  },
  {
   "cell_type": "code",
   "execution_count": null,
   "metadata": {},
   "outputs": [],
   "source": [
    "fName = f'/home/habjan.e/TNG/Data/TNG_data/halo_cutouts_dm_{cluster_ind}.hdf5'\n",
    "\n",
    "with h5py.File(fName, 'r') as f:\n",
    "\n",
    "    part_coordinates = f['PartType1']['Coordinates'][:]\n",
    "    velocities = f['PartType1']['Velocities'][:]\n",
    "    ids = f['PartType1']['ParticleIDs'][:]\n",
    "\n",
    "masses = np.zeros(part_coordinates.shape[0]) + 5.9 * 10**7\n",
    "\n",
    "coordinates = TNG_DA.coord_cm_corr(cluster_ind = cluster_ind, coordinates = part_coordinates)"
   ]
  },
  {
   "cell_type": "markdown",
   "metadata": {},
   "source": [
    "### Import ROCKSTAR pandas df"
   ]
  },
  {
   "cell_type": "code",
   "execution_count": null,
   "metadata": {},
   "outputs": [],
   "source": [
    "output_path = f'/home/habjan.e/TNG/Data/rockstar_output/rockstar_subhalos_{cluster_ind}.list'\n",
    "\n",
    "\n",
    "column_names = [\"id\", \"pos_0\", \"pos_1\", \"pos_2\", \"pos_3\", \"pos_4\", \"pos_5\", \"bulkvel_0\", \"bulkvel_1\", \"bulkvel_2\", \"corevel_0\", \"corevel_1\", \"corevel_2\", \"mass_grav\", \"p_start\", \"num_p\"]\n",
    "df = pd.read_csv(output_path, sep=r\"\\s+\", comment=\"#\", names=column_names)\n",
    "df"
   ]
  },
  {
   "cell_type": "markdown",
   "metadata": {},
   "source": [
    "### Add member lists to pandas df"
   ]
  },
  {
   "cell_type": "code",
   "execution_count": null,
   "metadata": {},
   "outputs": [],
   "source": [
    "members_path = f'/home/habjan.e/TNG/Data/rockstar_output/rockstar_subhalo_members_{cluster_ind}.list'\n",
    "\n",
    "members = pd.read_csv(members_path,\n",
    "                      sep=r\"\\s+\", names=[\"halo_id\",\"particle_id\"])\n",
    "\n",
    "member_id = np.array(members['particle_id'])\n",
    "mem_halo_id = np.array(members['halo_id'])\n",
    "\n",
    "grouped = members.groupby(\"halo_id\")[\"particle_id\"].apply(list)\n",
    "df[\"member_ids\"] = df[\"id\"].map(grouped)\n",
    "len(df.loc[np.where((df['num_p'] > 10**3) & (df['num_p'] < 10**4))[0]])"
   ]
  },
  {
   "cell_type": "markdown",
   "metadata": {},
   "source": [
    "### Plot Some subhalos"
   ]
  },
  {
   "cell_type": "code",
   "execution_count": null,
   "metadata": {},
   "outputs": [],
   "source": [
    "fig = plt.figure()\n",
    "ax  = fig.add_subplot(111, projection='3d')\n",
    "\n",
    "for i in np.where((df['num_p'] > 10**3) & (df['num_p'] < 10**4))[0]:\n",
    "\n",
    "    plot_bool = np.isin(ids, df['member_ids'][i])\n",
    "\n",
    "    ax.scatter(\n",
    "        coordinates[plot_bool,1],  # x\n",
    "        coordinates[plot_bool,2],  # y\n",
    "        coordinates[plot_bool,0],  # z\n",
    "        s=2              \n",
    "    )\n",
    "\n",
    "# label axes\n",
    "ax.set_xlabel('Y [kpc]')\n",
    "ax.set_ylabel('Z [kpc]')\n",
    "ax.set_zlabel('X [kpc]')\n",
    "\n",
    "plt.tight_layout()\n",
    "plt.show()"
   ]
  },
  {
   "cell_type": "markdown",
   "metadata": {},
   "source": [
    "### Do a distance calculation to find which subhalo is closest to particles"
   ]
  },
  {
   "cell_type": "code",
   "execution_count": null,
   "metadata": {},
   "outputs": [],
   "source": [
    "k = 5000\n",
    "\n",
    "sub_mem = np.zeros(pos.shape[0])\n",
    "\n",
    "real_subs = np.array(df['id'][np.where((df['num_p'] > 10**3) & (df['num_p'] < 10**4))[0]])\n",
    "real_bool = np.isin(mem_halo_id, real_subs)\n",
    "\n",
    "for i in range(pos.shape[0]):\n",
    "\n",
    "    dist = np.sqrt((pos[i, 0] - coordinates[real_bool, 0])**2 + (pos[i, 1] - coordinates[real_bool, 1])**2 + (pos[i, 2] - coordinates[real_bool, 2])**2)\n",
    "\n",
    "    idx = np.argpartition(dist, k-1)[:k]\n",
    "\n",
    "    k_ids = ids[real_bool][idx]\n",
    "\n",
    "    sub_mem[i] = np.unique(mem_halo_id[real_bool][np.isin(member_id[real_bool], k_ids)])[0]"
   ]
  },
  {
   "cell_type": "markdown",
   "metadata": {},
   "source": [
    "### Plot the found subhalos in their respective substructure"
   ]
  },
  {
   "cell_type": "code",
   "execution_count": null,
   "metadata": {},
   "outputs": [],
   "source": [
    "fig = plt.figure()\n",
    "ax  = fig.add_subplot(111, projection='3d')\n",
    "\n",
    "for i in np.unique(sub_mem):\n",
    "\n",
    "    plot_bool = np.where(i == sub_mem)[0]\n",
    "\n",
    "    ax.scatter(\n",
    "        pos[plot_bool,1],  # x\n",
    "        pos[plot_bool,2],  # y\n",
    "        pos[plot_bool,0],  # z\n",
    "        s=100              \n",
    "    )\n",
    "\n",
    "# label axes\n",
    "ax.set_xlabel('Y [kpc]')\n",
    "ax.set_ylabel('Z [kpc]')\n",
    "ax.set_zlabel('X [kpc]')\n",
    "\n",
    "plt.tight_layout()\n",
    "plt.show()"
   ]
  },
  {
   "cell_type": "markdown",
   "metadata": {},
   "source": [
    "### The same plot but in velocity space"
   ]
  },
  {
   "cell_type": "code",
   "execution_count": null,
   "metadata": {},
   "outputs": [],
   "source": [
    "fig = plt.figure()\n",
    "ax  = fig.add_subplot(111, projection='3d')\n",
    "\n",
    "for i in np.unique(sub_mem):\n",
    "\n",
    "    plot_bool = np.where(i == sub_mem)[0]\n",
    "\n",
    "    ax.scatter(\n",
    "        vel[plot_bool,2],  # x\n",
    "        vel[plot_bool,0],  # y\n",
    "        vel[plot_bool,1],  # z\n",
    "        s=100              \n",
    "    )\n",
    "\n",
    "# label axes\n",
    "ax.set_xlabel(r'$v_{z}$ [$\\frac{km}{s}$]')\n",
    "ax.set_ylabel(r'$v_{x}$ [$\\frac{km}{s}$]')\n",
    "ax.set_zlabel(r'$v_{y}$ [$\\frac{km}{s}$]')\n",
    "\n",
    "plt.tight_layout()\n",
    "plt.show()"
   ]
  }
 ],
 "metadata": {
  "kernelspec": {
   "display_name": "cluster_dyn",
   "language": "python",
   "name": "python3"
  },
  "language_info": {
   "codemirror_mode": {
    "name": "ipython",
    "version": 3
   },
   "file_extension": ".py",
   "mimetype": "text/x-python",
   "name": "python",
   "nbconvert_exporter": "python",
   "pygments_lexer": "ipython3",
   "version": "3.11.11"
  }
 },
 "nbformat": 4,
 "nbformat_minor": 2
}
