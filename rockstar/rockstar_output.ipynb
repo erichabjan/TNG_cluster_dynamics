{
 "cells": [
  {
   "cell_type": "code",
   "execution_count": null,
   "metadata": {},
   "outputs": [],
   "source": [
    "import numpy as np \n",
    "import matplotlib.pyplot as plt\n",
    "import pandas as pd\n",
    "import h5py\n",
    "\n",
    "from mpl_toolkits.mplot3d import Axes3D\n",
    "\n",
    "import sys\n",
    "sys.path.append(\"/home/habjan.e/TNG/TNG_cluster_dynamics\")\n",
    "import TNG_DA\n",
    "\n",
    "\n",
    "dirc_path = '/home/habjan.e/'\n",
    "sys.path.append(dirc_path + 'TNG/Codes')\n",
    "import iapi_TNG as iapi\n",
    "\n",
    "dirc = dirc_path + 'TNG/TNG_workshop/'\n",
    "sim = 'TNG300-1'\n",
    "\n",
    "baseUrl = 'http://www.tng-project.org/api/'\n",
    "r=iapi.get(baseUrl)\n",
    "TNG_data_path = dirc_path + 'TNG/Data/'"
   ]
  },
  {
   "cell_type": "markdown",
   "metadata": {},
   "source": [
    "### Pick a cluster index"
   ]
  },
  {
   "cell_type": "code",
   "execution_count": null,
   "metadata": {},
   "outputs": [],
   "source": [
    "cluster_ind = 98"
   ]
  },
  {
   "cell_type": "markdown",
   "metadata": {},
   "source": [
    "### Import subhalo information"
   ]
  },
  {
   "cell_type": "code",
   "execution_count": null,
   "metadata": {},
   "outputs": [],
   "source": [
    "pos, vel, groups, subhalo_masses, h, halo_mass = TNG_DA.get_cluster_props(cluster_ind)"
   ]
  },
  {
   "cell_type": "markdown",
   "metadata": {},
   "source": [
    "### Import particle data"
   ]
  },
  {
   "cell_type": "code",
   "execution_count": null,
   "metadata": {},
   "outputs": [],
   "source": [
    "fName = f'/home/habjan.e/TNG/Data/TNG_data/halo_cutouts_dm_{cluster_ind}.hdf5'\n",
    "\n",
    "with h5py.File(fName, 'r') as f:\n",
    "\n",
    "    part_coordinates = f['PartType1']['Coordinates'][:]\n",
    "    velocities = f['PartType1']['Velocities'][:]\n",
    "    ids = f['PartType1']['ParticleIDs'][:]\n",
    "\n",
    "masses = np.zeros(part_coordinates.shape[0]) + 5.9 * 10**7\n",
    "\n",
    "coordinates = TNG_DA.coord_cm_corr(cluster_ind = cluster_ind, coordinates = part_coordinates)"
   ]
  },
  {
   "cell_type": "markdown",
   "metadata": {},
   "source": [
    "### Import ROCKSTAR pandas df"
   ]
  },
  {
   "cell_type": "code",
   "execution_count": null,
   "metadata": {},
   "outputs": [],
   "source": [
    "output_path = f'/projects/mccleary_group/habjan.e/TNG/Data/rockstar_output/rockstar_subhalos_{cluster_ind}.list'\n",
    "\n",
    "\n",
    "column_names = [\"id\", \"pos_0\", \"pos_1\", \"pos_2\", \"pos_3\", \"pos_4\", \"pos_5\", \"bulkvel_0\", \"bulkvel_1\", \"bulkvel_2\", \"corevel_0\", \"corevel_1\", \"corevel_2\", \"mass_grav\", \"p_start\", \"num_p\"]\n",
    "df = pd.read_csv(output_path, sep=r\"\\s+\", comment=\"#\", names=column_names)\n",
    "df"
   ]
  },
  {
   "cell_type": "markdown",
   "metadata": {},
   "source": [
    "### Add member lists to pandas df"
   ]
  },
  {
   "cell_type": "code",
   "execution_count": null,
   "metadata": {},
   "outputs": [],
   "source": [
    "members_path = f'/projects/mccleary_group/habjan.e/TNG/Data/rockstar_output/rockstar_subhalo_members_{cluster_ind}.list'\n",
    "\n",
    "members = pd.read_csv(members_path,\n",
    "                      sep=r\"\\s+\", names=[\"halo_id\",\"particle_id\"])\n",
    "\n",
    "member_id = np.array(members['particle_id'])\n",
    "mem_halo_id = np.array(members['halo_id'])\n",
    "\n",
    "grouped = members.groupby(\"halo_id\")[\"particle_id\"].apply(list)\n",
    "df[\"member_ids\"] = df[\"id\"].map(grouped)\n",
    "len(df.loc[np.where((df['num_p'] > 10**3) & (df['num_p'] < 10**4))[0]])"
   ]
  },
  {
   "cell_type": "markdown",
   "metadata": {},
   "source": [
    "### Look at the substructure along some slice of the z-axis"
   ]
  },
  {
   "cell_type": "code",
   "execution_count": null,
   "metadata": {},
   "outputs": [],
   "source": [
    "fig = plt.figure()\n",
    "ax  = fig.add_subplot(111)\n",
    "\n",
    "z_low, z_up = -100, 100\n",
    "\n",
    "sub_x_pos = np.array(df.loc[:, 'pos_0']) * 10**-3\n",
    "sub_y_pos = np.array(df.loc[:, 'pos_1']) * 10**-3\n",
    "num_p = np.array(df.loc[:, 'num_p'])\n",
    "\n",
    "sub_mask = np.where((df['num_p'] > 10**2) & (df['num_p'] < 10**6) & (df['pos_2'] > z_low) & (df['pos_2'] < z_up))[0]\n",
    "\n",
    "for i in sub_mask:\n",
    "\n",
    "    ax.scatter(sub_x_pos[i], sub_y_pos[i], s=num_p[i], facecolors='none', edgecolors='k', linewidths=np.log10(num_p[i]) / 7.5, marker = 'o')\n",
    "\n",
    "# label axes\n",
    "ax.set_xlabel('X-coordinate [Mpc]')\n",
    "ax.set_ylabel('Y-coordinate [Mpc]')\n",
    "\n",
    "min_x, max_x = np.min(sub_x_pos[sub_mask]), np.max(sub_x_pos[sub_mask])\n",
    "min_y, max_y = np.min(sub_y_pos[sub_mask]), np.max(sub_y_pos[sub_mask])\n",
    "\n",
    "scale = 1.5\n",
    "\n",
    "ax.set_xlim(min_x * scale, max_x * scale)\n",
    "ax.set_ylim(min_y * scale, max_y * scale)\n",
    "\n",
    "plt.tight_layout()\n",
    "plt.show()"
   ]
  },
  {
   "cell_type": "markdown",
   "metadata": {},
   "source": [
    "### Make a histogram of the number particles in a substructure"
   ]
  },
  {
   "cell_type": "code",
   "execution_count": null,
   "metadata": {},
   "outputs": [],
   "source": [
    "num_p = np.array(df['num_p'])\n",
    "num_p_log = np.log10(num_p[num_p > 0])\n",
    "\n",
    "\n",
    "plt.hist(num_p_log, color='blue', bins = np.linspace(1, 7, 200))\n",
    "\n",
    "lower_b = np.nanquantile(num_p_log, 0.99)\n",
    "plt.axvline(lower_b, c='red', linestyle='--')\n",
    "\n",
    "upper_b = np.nanquantile(num_p_log, 0.9998)\n",
    "plt.axvline(upper_b, c='green', linestyle='--')\n",
    "\n",
    "plt.yscale('log')\n",
    "\n",
    "plt.ylabel('Subhalo Count')\n",
    "plt.xlabel('TNG particle Count')"
   ]
  },
  {
   "cell_type": "markdown",
   "metadata": {},
   "source": [
    "### Do a distance calculation to find which subhalo is closest to particles"
   ]
  },
  {
   "cell_type": "code",
   "execution_count": null,
   "metadata": {},
   "outputs": [],
   "source": [
    "#k = int(np.mean(np.array([10**upper_b, 10**lower_b])))\n",
    "#upper_b = int(10**upper_b)\n",
    "#lower_b = int(10**lower_b)\n",
    "\n",
    "k = 5000\n",
    "upper_b = int(10**4)\n",
    "lower_b = int(10**3)\n",
    "\n",
    "print(lower_b, upper_b, k)\n",
    "\n",
    "sub_mem = np.zeros(pos.shape[0])\n",
    "\n",
    "real_subs = np.array(df['id'][np.where((df['num_p'] > lower_b) & (df['num_p'] < upper_b))[0]])\n",
    "real_bool = np.isin(mem_halo_id, real_subs)\n",
    "\n",
    "for i in range(pos.shape[0]):\n",
    "\n",
    "    dist = np.sqrt((pos[i, 0] - coordinates[real_bool, 0])**2 + (pos[i, 1] - coordinates[real_bool, 1])**2 + (pos[i, 2] - coordinates[real_bool, 2])**2)\n",
    "\n",
    "    idx = np.argpartition(dist, k-1)[:k]\n",
    "\n",
    "    k_ids = ids[real_bool][idx]\n",
    "\n",
    "    sub_mem[i] = np.unique(mem_halo_id[real_bool][np.isin(member_id[real_bool], k_ids)])[0]"
   ]
  },
  {
   "cell_type": "markdown",
   "metadata": {},
   "source": [
    "### Plot the found subhalos in their respective substructure"
   ]
  },
  {
   "cell_type": "code",
   "execution_count": null,
   "metadata": {},
   "outputs": [],
   "source": [
    "fig = plt.figure()\n",
    "ax  = fig.add_subplot(111, projection='3d')\n",
    "\n",
    "for i in np.unique(sub_mem):\n",
    "\n",
    "    plot_bool = np.where(i == sub_mem)[0]\n",
    "\n",
    "    ax.scatter(\n",
    "        pos[plot_bool,1],  # x\n",
    "        pos[plot_bool,2],  # y\n",
    "        pos[plot_bool,0],  # z\n",
    "        s=100              \n",
    "    )\n",
    "\n",
    "# label axes\n",
    "ax.set_xlabel('Y [kpc]')\n",
    "ax.set_ylabel('Z [kpc]')\n",
    "ax.set_zlabel('X [kpc]')\n",
    "\n",
    "plt.tight_layout()\n",
    "plt.show()"
   ]
  },
  {
   "cell_type": "markdown",
   "metadata": {},
   "source": [
    "### The same plot but in velocity space"
   ]
  },
  {
   "cell_type": "code",
   "execution_count": null,
   "metadata": {},
   "outputs": [],
   "source": [
    "fig = plt.figure()\n",
    "ax  = fig.add_subplot(111, projection='3d')\n",
    "\n",
    "for i in np.unique(sub_mem):\n",
    "\n",
    "    plot_bool = np.where(i == sub_mem)[0]\n",
    "\n",
    "    ax.scatter(\n",
    "        vel[plot_bool,2],  # x\n",
    "        vel[plot_bool,0],  # y\n",
    "        vel[plot_bool,1],  # z\n",
    "        s=100              \n",
    "    )\n",
    "\n",
    "# label axes\n",
    "ax.set_xlabel(r'$v_{z}$ [$\\frac{km}{s}$]')\n",
    "ax.set_ylabel(r'$v_{x}$ [$\\frac{km}{s}$]')\n",
    "ax.set_zlabel(r'$v_{y}$ [$\\frac{km}{s}$]')\n",
    "\n",
    "plt.tight_layout()\n",
    "plt.show()"
   ]
  },
  {
   "cell_type": "markdown",
   "metadata": {},
   "source": [
    "### Overlay rockstar-substructure subhalos on z-axis slice"
   ]
  },
  {
   "cell_type": "code",
   "execution_count": null,
   "metadata": {},
   "outputs": [],
   "source": [
    "fig = plt.figure()\n",
    "ax  = fig.add_subplot(111)\n",
    "\n",
    "z_low, z_up = -200, 200\n",
    "\n",
    "# & (df['num_p'] < 10**6) previous upper bound\n",
    "\n",
    "sub_mask = np.where((df['num_p'] > 10**3.23) & (df['pos_2'] > z_low) & (df['pos_2'] < z_up))[0]\n",
    "\n",
    "for i in sub_mask:\n",
    "\n",
    "    ax.scatter(df.loc[i, 'pos_0'], df.loc[i, 'pos_1'], s=df.loc[i, 'num_p'], \n",
    "                facecolors='none', edgecolors='k', linewidths=np.log10(df.loc[i, 'num_p']) / 7.5, marker = 'o')\n",
    "\n",
    "\n",
    "sub_ind = np.where((pos[:, 2] > z_low) & (pos[:, 2] < z_up))[0]\n",
    "\n",
    "for i in np.unique(sub_mem[sub_ind]):\n",
    "\n",
    "    plot_bool = np.where(i == sub_mem[sub_ind])[0]\n",
    "\n",
    "    ax.scatter(pos[sub_ind, :][plot_bool, 0], pos[sub_ind, :][plot_bool, 1])\n",
    "\n",
    "ax.set_xlabel('X-position [kpc]')\n",
    "ax.set_ylabel('Y-position [kpc]')\n",
    "\n",
    "min_x, max_x = np.min(df.loc[sub_mask, 'pos_0']), np.max(df.loc[sub_mask, 'pos_0'])\n",
    "min_y, max_y = np.min(df.loc[sub_mask, 'pos_1']), np.max(df.loc[sub_mask, 'pos_1'])\n",
    "\n",
    "scale = 1.5\n",
    "\n",
    "ax.set_xlim(min_x * scale, max_x * scale)\n",
    "ax.set_ylim(min_y * scale, max_y * scale)\n",
    "\n",
    "plt.tight_layout()\n",
    "plt.show()"
   ]
  },
  {
   "cell_type": "markdown",
   "metadata": {},
   "source": [
    "# DS+ comparison to ROCKSTAR"
   ]
  },
  {
   "cell_type": "markdown",
   "metadata": {},
   "source": [
    "### Run DS+"
   ]
  },
  {
   "cell_type": "code",
   "execution_count": null,
   "metadata": {},
   "outputs": [],
   "source": [
    "pos_2d, vel_los = TNG_DA.project_3d_to_2d(pos, vel)\n",
    "dsp_results, C, P = TNG_DA.run_dsp(pos_2d, vel_los, groups, n_sims=5000, Plim_P = 10, Ng_jump=1)\n",
    "C, P"
   ]
  },
  {
   "cell_type": "markdown",
   "metadata": {},
   "source": [
    "### Compare Results from distance-based matching"
   ]
  },
  {
   "cell_type": "code",
   "execution_count": null,
   "metadata": {},
   "outputs": [],
   "source": [
    "fig, (ax1, ax2, ax3) = plt.subplots(1, 3, figsize=(15, 5), sharey=True)\n",
    "\n",
    "tng_arr = np.zeros(len(subhalo_masses))\n",
    "dsp_arr = np.zeros(len(subhalo_masses))\n",
    "\n",
    "marker_size = 40\n",
    "gray_size = 15\n",
    "\n",
    "### TNG subgroups\n",
    "\n",
    "k = 0\n",
    "\n",
    "ax1.scatter(0, 0, c='white', alpha=0, label='ROCKSTAR')\n",
    "\n",
    "for i in np.unique(sub_mem):\n",
    "\n",
    "    plot_bool = np.where(i == sub_mem)[0]\n",
    "    \n",
    "    if len(plot_bool) > 1 and len(plot_bool) < int(np.sqrt(len(subhalo_masses))):\n",
    "        \n",
    "        ax1.scatter(pos_2d[plot_bool,0], pos_2d[plot_bool,1], s=marker_size)\n",
    "        tng_arr[plot_bool] = 1\n",
    "    \n",
    "    else:\n",
    "\n",
    "        ax1.scatter(pos_2d[plot_bool,0], pos_2d[plot_bool,1], s=gray_size, c='gray', alpha =0.4)\n",
    "        tng_arr[plot_bool] = 2\n",
    "\n",
    "ax1.legend(loc = 'lower right', fontsize = 12.5)\n",
    "\n",
    "### DS+ subgroups\n",
    "\n",
    "sub_grnu, sub_count = np.unique(dsp_results[1][:, 8], return_counts=True)\n",
    "sub_grnu_arr = dsp_results[1][:, 8]\n",
    "\n",
    "for i in range(len(sub_grnu)):\n",
    "\n",
    "    if i == 0:\n",
    "\n",
    "        ax2.scatter(0, 0, c='white', alpha=0, label='DS+')\n",
    "\n",
    "    group_dsp_arr = np.where(sub_grnu_arr == sub_grnu[i])[0]\n",
    "    x = dsp_results[1][group_dsp_arr, 9]\n",
    "    y = dsp_results[1][group_dsp_arr, 10]\n",
    "\n",
    "    if sub_count[i] > 1 and sub_count[i] < int(np.sqrt(len(subhalo_masses))):\n",
    "\n",
    "        ax2.scatter(x, y, s=marker_size)\n",
    "        dsp_arr[group_dsp_arr] = 1\n",
    "    \n",
    "    else:\n",
    "\n",
    "        ax2.scatter(x, y, s=gray_size, c='gray', alpha =0.4)\n",
    "        dsp_arr[group_dsp_arr] = 2\n",
    "\n",
    "ax2.legend(loc = 'lower right', fontsize = 12.5)\n",
    "\n",
    "### Plot comparing TNG and DS+ substructure\n",
    "\n",
    "ax3.scatter(0, 0, c='white', alpha=0, label='ROCKSTAR & DS+')\n",
    "\n",
    "# DS+ correctly identifies a galaxy that is part of substructure\n",
    "bool_corr = (tng_arr == 1) & (dsp_arr == 1)\n",
    "ax3.scatter(pos_2d[bool_corr, 0], pos_2d[bool_corr, 1], c = 'green' , s=marker_size)\n",
    "\n",
    "# Galaxies that are not part of substructure and where not identified by DS +\n",
    "bool_indiff = (tng_arr == 2) & (dsp_arr == 2)\n",
    "ax3.scatter(pos_2d[bool_indiff, 0], pos_2d[bool_indiff, 1], s=gray_size, c='gray', alpha =0.4)\n",
    "\n",
    "# Galaxies that are part of substructure but were not identified by DS+\n",
    "bool_noid = (tng_arr == 1) & (dsp_arr == 2)\n",
    "ax3.scatter(pos_2d[bool_noid, 0], pos_2d[bool_noid, 1], c = 'black', s=marker_size)\n",
    "\n",
    "# Galaxies not part of substructure but were identified by DS+\n",
    "bool_wrong = (tng_arr == 2) & (dsp_arr == 1)\n",
    "ax3.scatter(pos_2d[bool_wrong, 0], pos_2d[bool_wrong, 1], c = 'red', s=marker_size)\n",
    "\n",
    "ax3.legend(loc = 'lower right', fontsize = 12.5)\n",
    "\n",
    "### Adjust layout and show plot\n",
    "\n",
    "#fig.suptitle(f'TNG Cluster Index: {cluster_TNG} | Orientation: {view_vector}')\n",
    "fig.supxlabel(r'X - X$_0$ [kpc]', fontsize = 17.5, y = -0.02)\n",
    "fig.supylabel(r'Y - Y$_0$ [kpc]', fontsize = 17.5, x = 0.07)\n",
    "\n",
    "fig.subplots_adjust(wspace=0)\n",
    "\n",
    "plt.show()"
   ]
  },
  {
   "cell_type": "markdown",
   "metadata": {},
   "source": [
    "### Import TNG subhalo data that is necessary to do subhalo-based classification"
   ]
  },
  {
   "cell_type": "code",
   "execution_count": null,
   "metadata": {},
   "outputs": [],
   "source": [
    "SubhaloLenType = iapi.getSubhaloField('SubhaloLenType', simulation=sim, snapshot=99, fileName=TNG_data_path+'TNG_data/'+sim+'_SubhaloLenType', rewriteFile=0)\n",
    "Group_num = iapi.getSubhaloField('SubhaloGrNr', simulation=sim, fileName=TNG_data_path+'TNG_data/'+sim+'_SubhaloGrNr', rewriteFile=0)\n",
    "SubhaloStellarPhotometrics = iapi.getSubhaloField('SubhaloStellarPhotometrics', snapshot=99, simulation=sim, fileName=TNG_data_path+'TNG_data/'+sim+'_SubhaloStellarPhotometrics', rewriteFile=0)\n",
    "\n",
    "### To look at subhalos with no DM particles\n",
    "SubhaloMassType = iapi.getSubhaloField('SubhaloMassType', snapshot=99, simulation=sim, fileName=TNG_data_path+'TNG_data/'+sim+'_SubhaloMassType', rewriteFile=0)\n",
    "\n",
    "sub_ind = np.where(Group_num == cluster_ind)[0]\n",
    "\n",
    "sub_lens, sub_photo, sub_type = SubhaloLenType[sub_ind, :], SubhaloStellarPhotometrics[sub_ind, :], SubhaloMassType[sub_ind, :]\n",
    "\n",
    "mag_cut = -18\n",
    "bright_ind = sub_photo[:, 4] < mag_cut\n",
    "\n",
    "sub_lens_type, sub_mass_type = sub_lens[bright_ind, :], sub_type[bright_ind, :]"
   ]
  },
  {
   "cell_type": "markdown",
   "metadata": {},
   "source": [
    "### Compare the number of particles in TNG subhalos with ROCKSTAR subhalos"
   ]
  },
  {
   "cell_type": "code",
   "execution_count": null,
   "metadata": {},
   "outputs": [],
   "source": [
    "part_mass = 5.9 * 10**7\n",
    "\n",
    "num_p = np.array(df['num_p'])\n",
    "num_p_log = np.log10(num_p[num_p > 0] * part_mass)\n",
    "\n",
    "sub_lens_log = np.log10(sub_lens[sub_lens > 0] * part_mass)\n",
    "\n",
    "plt.hist(num_p_log, color='blue', bins = np.linspace(8, 15, 100), label = 'ROCKSTAR', alpha = 0.9)\n",
    "plt.hist(sub_lens_log, color='red', bins = np.linspace(8, 15, 100), label = 'SUBFIND', alpha = 0.7)\n",
    "\n",
    "lower_b = np.nanquantile(num_p_log, 0.99)\n",
    "#plt.axvline(lower_b, c='red', linestyle='--')\n",
    "\n",
    "upper_b = np.nanquantile(num_p_log, 0.9998)\n",
    "#plt.axvline(upper_b, c='green', linestyle='--')\n",
    "\n",
    "plt.yscale('symlog', linthresh=10)\n",
    "\n",
    "plt.ylabel('Subhalo Count', fontsize = 20)\n",
    "plt.xlabel(r'Subhalo Mass [$M_{\\odot}$]', fontsize = 20)\n",
    "\n",
    "plt.legend(loc='upper right')"
   ]
  },
  {
   "cell_type": "markdown",
   "metadata": {},
   "source": [
    "### Code to sort subhalos into a substructure"
   ]
  },
  {
   "cell_type": "code",
   "execution_count": null,
   "metadata": {},
   "outputs": [],
   "source": [
    "sub_mem_len = np.zeros(pos.shape[0])\n",
    "\n",
    "part_count = 0\n",
    "bright_sub = 0\n",
    "\n",
    "for i in range(sub_lens[:, 1].shape[0]):\n",
    "\n",
    "    sub_parts_i = sub_lens[i, 1]\n",
    "\n",
    "    if sub_photo[i, 4] < mag_cut:\n",
    "\n",
    "        sub_parts = ids[int(part_count) : int(part_count + sub_parts_i)]\n",
    "        part_count += sub_parts_i\n",
    "\n",
    "        sub_bool = np.isin(member_id, sub_parts)\n",
    "        sub_members = mem_halo_id[sub_bool]\n",
    "\n",
    "        try: \n",
    "\n",
    "            sub_mem_len[bright_sub] = np.unique(sub_members)[0]\n",
    "        \n",
    "        except: \n",
    "\n",
    "            sub_mem_len[bright_sub] = np.nan ### This exception is solely for subhalos with no particles associated with it\n",
    "\n",
    "        bright_sub += 1\n",
    "\n",
    "        if bright_sub + 1 == pos.shape[0]:\n",
    "            break\n",
    "\n",
    "    else:\n",
    "\n",
    "        part_count += sub_parts_i\n",
    "\n",
    "        continue"
   ]
  },
  {
   "cell_type": "markdown",
   "metadata": {},
   "source": [
    "### What are the masses of subhalos that do not have any DM particles"
   ]
  },
  {
   "cell_type": "code",
   "execution_count": null,
   "metadata": {},
   "outputs": [],
   "source": [
    "sub_mass_type[np.isnan(sub_mem_len), :]"
   ]
  },
  {
   "cell_type": "markdown",
   "metadata": {},
   "source": [
    "### Where do this subhalos lie in the g-band distribution? "
   ]
  },
  {
   "cell_type": "code",
   "execution_count": null,
   "metadata": {},
   "outputs": [],
   "source": [
    "plt.hist(sub_photo[:, 4], color='blue', bins = np.linspace(-25, -10, 100))\n",
    "\n",
    "plt.axvline(-18, c='red', linestyle = '--', label = '-18 Magnitude Cut')\n",
    "\n",
    "bright_g = sub_photo[bright_ind, 4]\n",
    "\n",
    "for i in range(len(bright_g[np.isnan(sub_mem_len)])):\n",
    "\n",
    "    if i == 0:\n",
    "\n",
    "        plt.axvline(bright_g[np.isnan(sub_mem_len)][i], c='green', linestyle = '--', label = 'DMless Subhalo')\n",
    "    \n",
    "    else: \n",
    "\n",
    "        plt.axvline(bright_g[np.isnan(sub_mem_len)][i], c='green', linestyle = '--')\n",
    "\n",
    "plt.legend(loc='upper left')\n",
    "\n",
    "plt.xlabel('Magnitude')\n",
    "plt.ylabel('Count')"
   ]
  },
  {
   "cell_type": "markdown",
   "metadata": {},
   "source": [
    "### Print the TNG-based substructure results"
   ]
  },
  {
   "cell_type": "code",
   "execution_count": null,
   "metadata": {},
   "outputs": [],
   "source": [
    "fig, (ax1, ax2, ax3) = plt.subplots(1, 3, figsize=(15, 5), sharey=True)\n",
    "\n",
    "tng_arr = np.zeros(len(subhalo_masses))\n",
    "dsp_arr = np.zeros(len(subhalo_masses))\n",
    "\n",
    "marker_size = 40\n",
    "gray_size = 15\n",
    "\n",
    "### TNG subgroups\n",
    "\n",
    "k = 0\n",
    "\n",
    "ax1.scatter(0, 0, c='white', alpha=0, label='ROCKSTAR')\n",
    "\n",
    "for i in np.unique(sub_mem_len):\n",
    "\n",
    "    plot_bool = np.where(i == sub_mem_len)[0]\n",
    "    \n",
    "    if len(plot_bool) > 1 and len(plot_bool) < int(np.sqrt(len(subhalo_masses))):\n",
    "        \n",
    "        ax1.scatter(pos_2d[plot_bool,0], pos_2d[plot_bool,1], s=marker_size)\n",
    "        tng_arr[plot_bool] = 1\n",
    "        ax1.scatter(df['pos_0'].loc[i], df['pos_1'].loc[i], s = marker_size) #df['num_p'].loc[i])\n",
    "    \n",
    "    else:\n",
    "\n",
    "        ax1.scatter(pos_2d[plot_bool,0], pos_2d[plot_bool,1], s=gray_size, c='gray', alpha =0.4)\n",
    "        tng_arr[plot_bool] = 2\n",
    "\n",
    "ax1.legend(loc = 'lower right', fontsize = 12.5)\n",
    "\n",
    "### DS+ subgroups\n",
    "\n",
    "sub_grnu, sub_count = np.unique(dsp_results[1][:, 8], return_counts=True)\n",
    "sub_grnu_arr = dsp_results[1][:, 8]\n",
    "\n",
    "for i in range(len(sub_grnu)):\n",
    "\n",
    "    if i == 0:\n",
    "\n",
    "        ax2.scatter(0, 0, c='white', alpha=0, label='DS+')\n",
    "\n",
    "    group_dsp_arr = np.where(sub_grnu_arr == sub_grnu[i])[0]\n",
    "    x = dsp_results[1][group_dsp_arr, 9]\n",
    "    y = dsp_results[1][group_dsp_arr, 10]\n",
    "\n",
    "    if sub_count[i] > 1 and sub_count[i] < int(np.sqrt(len(subhalo_masses))):\n",
    "\n",
    "        ax2.scatter(x, y, s=marker_size)\n",
    "        dsp_arr[group_dsp_arr] = 1\n",
    "    \n",
    "    else:\n",
    "\n",
    "        ax2.scatter(x, y, s=gray_size, c='gray', alpha =0.4)\n",
    "        dsp_arr[group_dsp_arr] = 2\n",
    "\n",
    "ax2.legend(loc = 'lower right', fontsize = 12.5)\n",
    "\n",
    "### Plot comparing TNG and DS+ substructure\n",
    "\n",
    "ax3.scatter(0, 0, c='white', alpha=0, label='ROCKSTAR & DS+')\n",
    "\n",
    "# DS+ correctly identifies a galaxy that is part of substructure\n",
    "bool_corr = (tng_arr == 1) & (dsp_arr == 1)\n",
    "ax3.scatter(pos_2d[bool_corr, 0], pos_2d[bool_corr, 1], c = 'green' , s=marker_size)\n",
    "\n",
    "# Galaxies that are not part of substructure and where not identified by DS +\n",
    "bool_indiff = (tng_arr == 2) & (dsp_arr == 2)\n",
    "ax3.scatter(pos_2d[bool_indiff, 0], pos_2d[bool_indiff, 1], s=gray_size, c='gray', alpha =0.4)\n",
    "\n",
    "# Galaxies that are part of substructure but were not identified by DS+\n",
    "bool_noid = (tng_arr == 1) & (dsp_arr == 2)\n",
    "ax3.scatter(pos_2d[bool_noid, 0], pos_2d[bool_noid, 1], c = 'black', s=marker_size)\n",
    "\n",
    "# Galaxies not part of substructure but were identified by DS+\n",
    "bool_wrong = (tng_arr == 2) & (dsp_arr == 1)\n",
    "ax3.scatter(pos_2d[bool_wrong, 0], pos_2d[bool_wrong, 1], c = 'red', s=marker_size)\n",
    "\n",
    "ax3.legend(loc = 'lower right', fontsize = 12.5)\n",
    "\n",
    "### Adjust layout and show plot\n",
    "\n",
    "#fig.suptitle(f'TNG Cluster Index: {cluster_TNG} | Orientation: {view_vector}')\n",
    "fig.supxlabel(r'X - X$_0$ [kpc]', fontsize = 17.5, y = -0.02)\n",
    "fig.supylabel(r'Y - Y$_0$ [kpc]', fontsize = 17.5, x = 0.07)\n",
    "\n",
    "fig.subplots_adjust(wspace=0)\n",
    "\n",
    "plt.show()"
   ]
  },
  {
   "cell_type": "markdown",
   "metadata": {},
   "source": [
    "### Most bound particle identification"
   ]
  },
  {
   "cell_type": "code",
   "execution_count": null,
   "metadata": {},
   "outputs": [],
   "source": [
    "sub_mem_bound = np.zeros(pos.shape[0])\n",
    "\n",
    "part_count = 0\n",
    "bright_sub = 0\n",
    "\n",
    "for i in range(sub_lens[:, 1].shape[0]):\n",
    "\n",
    "    sub_parts_i = sub_lens[i, 1]\n",
    "\n",
    "    if sub_photo[i, 4] < mag_cut:\n",
    "\n",
    "        sub_parts = ids[int(part_count) : int(part_count + sub_parts_i)]\n",
    "        part_count += sub_parts_i\n",
    "\n",
    "        sub_bool = np.isin(member_id, sub_parts)\n",
    "        sub_members = mem_halo_id[sub_bool]\n",
    "\n",
    "        try: \n",
    "\n",
    "            sub_mem_bound[bright_sub] = sub_members[0]\n",
    "        \n",
    "        except: \n",
    "\n",
    "            sub_mem_bound[bright_sub] = np.nan ### This exception is solely for subhalos with no particles associated with it\n",
    "\n",
    "        bright_sub += 1\n",
    "\n",
    "        if bright_sub + 1 == pos.shape[0]:\n",
    "            break\n",
    "\n",
    "    else:\n",
    "\n",
    "        part_count += sub_parts_i\n",
    "\n",
    "        continue"
   ]
  },
  {
   "cell_type": "markdown",
   "metadata": {},
   "source": [
    "### Most bound particle plot"
   ]
  },
  {
   "cell_type": "code",
   "execution_count": null,
   "metadata": {},
   "outputs": [],
   "source": [
    "fig, (ax1, ax2, ax3) = plt.subplots(1, 3, figsize=(15, 5), sharey=True)\n",
    "\n",
    "tng_arr = np.zeros(len(subhalo_masses))\n",
    "dsp_arr = np.zeros(len(subhalo_masses))\n",
    "\n",
    "marker_size = 40\n",
    "gray_size = 15\n",
    "\n",
    "### TNG subgroups\n",
    "\n",
    "k = 0\n",
    "\n",
    "ax1.scatter(0, 0, c='white', alpha=0, label='ROCKSTAR')\n",
    "\n",
    "for i in np.unique(sub_mem_bound):\n",
    "\n",
    "    plot_bool = np.where(i == sub_mem_bound)[0]\n",
    "    \n",
    "    if len(plot_bool) > 1 and len(plot_bool) < int(np.sqrt(len(subhalo_masses))):\n",
    "        \n",
    "        ax1.scatter(pos_2d[plot_bool,0], pos_2d[plot_bool,1], s=marker_size)\n",
    "        tng_arr[plot_bool] = 1\n",
    "        ax1.scatter(df['pos_0'].loc[i], df['pos_1'].loc[i], s = marker_size) #df['num_p'].loc[i])\n",
    "    \n",
    "    else:\n",
    "\n",
    "        ax1.scatter(pos_2d[plot_bool,0], pos_2d[plot_bool,1], s=gray_size, c='gray', alpha =0.4)\n",
    "        tng_arr[plot_bool] = 2\n",
    "\n",
    "ax1.legend(loc = 'lower right', fontsize = 12.5)\n",
    "\n",
    "### DS+ subgroups\n",
    "\n",
    "sub_grnu, sub_count = np.unique(dsp_results[1][:, 8], return_counts=True)\n",
    "sub_grnu_arr = dsp_results[1][:, 8]\n",
    "\n",
    "for i in range(len(sub_grnu)):\n",
    "\n",
    "    if i == 0:\n",
    "\n",
    "        ax2.scatter(0, 0, c='white', alpha=0, label='DS+')\n",
    "\n",
    "    group_dsp_arr = np.where(sub_grnu_arr == sub_grnu[i])[0]\n",
    "    x = dsp_results[1][group_dsp_arr, 9]\n",
    "    y = dsp_results[1][group_dsp_arr, 10]\n",
    "\n",
    "    if sub_count[i] > 1 and sub_count[i] < int(np.sqrt(len(subhalo_masses))):\n",
    "\n",
    "        ax2.scatter(x, y, s=marker_size)\n",
    "        dsp_arr[group_dsp_arr] = 1\n",
    "    \n",
    "    else:\n",
    "\n",
    "        ax2.scatter(x, y, s=gray_size, c='gray', alpha =0.4)\n",
    "        dsp_arr[group_dsp_arr] = 2\n",
    "\n",
    "ax2.legend(loc = 'lower right', fontsize = 12.5)\n",
    "\n",
    "### Plot comparing TNG and DS+ substructure\n",
    "\n",
    "ax3.scatter(0, 0, c='white', alpha=0, label='ROCKSTAR & DS+')\n",
    "\n",
    "# DS+ correctly identifies a galaxy that is part of substructure\n",
    "bool_corr = (tng_arr == 1) & (dsp_arr == 1)\n",
    "ax3.scatter(pos_2d[bool_corr, 0], pos_2d[bool_corr, 1], c = 'green' , s=marker_size)\n",
    "\n",
    "# Galaxies that are not part of substructure and where not identified by DS +\n",
    "bool_indiff = (tng_arr == 2) & (dsp_arr == 2)\n",
    "ax3.scatter(pos_2d[bool_indiff, 0], pos_2d[bool_indiff, 1], s=gray_size, c='gray', alpha =0.4)\n",
    "\n",
    "# Galaxies that are part of substructure but were not identified by DS+\n",
    "bool_noid = (tng_arr == 1) & (dsp_arr == 2)\n",
    "ax3.scatter(pos_2d[bool_noid, 0], pos_2d[bool_noid, 1], c = 'black', s=marker_size)\n",
    "\n",
    "# Galaxies not part of substructure but were identified by DS+\n",
    "bool_wrong = (tng_arr == 2) & (dsp_arr == 1)\n",
    "ax3.scatter(pos_2d[bool_wrong, 0], pos_2d[bool_wrong, 1], c = 'red', s=marker_size)\n",
    "\n",
    "ax3.legend(loc = 'lower right', fontsize = 12.5)\n",
    "\n",
    "### Adjust layout and show plot\n",
    "\n",
    "#fig.suptitle(f'TNG Cluster Index: {cluster_TNG} | Orientation: {view_vector}')\n",
    "fig.supxlabel(r'X - X$_0$ [kpc]', fontsize = 17.5, y = -0.02)\n",
    "fig.supylabel(r'Y - Y$_0$ [kpc]', fontsize = 17.5, x = 0.07)\n",
    "\n",
    "fig.subplots_adjust(wspace=0)\n",
    "\n",
    "plt.show()"
   ]
  },
  {
   "cell_type": "markdown",
   "metadata": {},
   "source": [
    "# BAHAMAS comparisons"
   ]
  },
  {
   "cell_type": "markdown",
   "metadata": {},
   "source": [
    "### Import BAHAMAS data"
   ]
  },
  {
   "cell_type": "code",
   "execution_count": null,
   "metadata": {},
   "outputs": [],
   "source": [
    "bahamas_cl_id = 10\n",
    "\n",
    "column_names = [\"id\", \"pos_0\", \"pos_1\", \"pos_2\", \"pos_3\", \"pos_4\", \"pos_5\", \"bulkvel_0\", \"bulkvel_1\", \"bulkvel_2\", \"corevel_0\", \"corevel_1\", \"corevel_2\", \"mass_grav\", \"p_start\", \"num_p\"]\n",
    "\n",
    "output_path = f'/projects/mccleary_group/habjan.e/TNG/Data/rockstar_output/bahamas_rockstar_subhalos_CDMb_{bahamas_cl_id}.list'\n",
    "df_CDMb = pd.read_csv(output_path, sep=r\"\\s+\", comment=\"#\", names=column_names)\n",
    "\n",
    "output_path = f'/projects/mccleary_group/habjan.e/TNG/Data/rockstar_output/bahamas_rockstar_subhalos_SIDM0.1b_{bahamas_cl_id}.list'\n",
    "df_SIDM01b = pd.read_csv(output_path, sep=r\"\\s+\", comment=\"#\", names=column_names)\n",
    "\n",
    "output_path = f'/projects/mccleary_group/habjan.e/TNG/Data/rockstar_output/bahamas_rockstar_subhalos_SIDM0.3b_{bahamas_cl_id}.list'\n",
    "df_SIDM03b = pd.read_csv(output_path, sep=r\"\\s+\", comment=\"#\", names=column_names)\n",
    "\n",
    "output_path = f'/projects/mccleary_group/habjan.e/TNG/Data/rockstar_output/bahamas_rockstar_subhalos_SIDM1b_{bahamas_cl_id}.list'\n",
    "df_SIDM1b = pd.read_csv(output_path, sep=r\"\\s+\", comment=\"#\", names=column_names)\n",
    "\n",
    "output_path = f'/projects/mccleary_group/habjan.e/TNG/Data/rockstar_output/bahamas_rockstar_subhalos_vdSIDMb_{bahamas_cl_id}.list'\n",
    "df_vdSIDMb = pd.read_csv(output_path, sep=r\"\\s+\", comment=\"#\", names=column_names)"
   ]
  },
  {
   "cell_type": "markdown",
   "metadata": {},
   "source": [
    "### Compare different simulations"
   ]
  },
  {
   "cell_type": "code",
   "execution_count": null,
   "metadata": {},
   "outputs": [],
   "source": [
    "num_bins = 50\n",
    "\n",
    "num_p = np.array(df_CDMb['num_p'])\n",
    "mass = num_p * 5.5 * 10**9\n",
    "mass_log = np.log10(mass[mass > 0])\n",
    "\n",
    "plt.hist(mass_log, color='red', bins = np.linspace(10.5, 15, num_bins), label = 'BAHAMAS CDM')\n",
    "\n",
    "num_p = np.array(df_vdSIDMb['num_p'])\n",
    "mass = num_p * 5.5 * 10**9 #* 5.9 * 10**7\n",
    "mass_log = np.log10(mass[mass > 0])\n",
    "\n",
    "plt.hist(mass_log, color='blue', bins = np.linspace(10.5, 15, num_bins), label = 'BAHAMAS vdSIDM')\n",
    "\n",
    "plt.yscale('log')\n",
    "\n",
    "plt.ylabel('Subhalo Count')\n",
    "plt.xlabel(r'Subhalo Mass [$\\log(M_{\\odot})$]')\n",
    "\n",
    "plt.legend()"
   ]
  },
  {
   "cell_type": "markdown",
   "metadata": {},
   "source": [
    "### View some substructure in a simulation"
   ]
  },
  {
   "cell_type": "code",
   "execution_count": null,
   "metadata": {},
   "outputs": [],
   "source": [
    "fig = plt.figure()\n",
    "ax  = fig.add_subplot(111)\n",
    "\n",
    "z_low, z_up = -0.1, 0.1\n",
    "\n",
    "dm_model = df_vdSIDMb\n",
    "\n",
    "sub_mask = np.where((dm_model['num_p'] > 10**1) & (dm_model['pos_2'] > z_low) & (dm_model['pos_2'] < z_up))[0]\n",
    "\n",
    "for i in sub_mask:\n",
    "\n",
    "    ax.scatter(dm_model.loc[i, 'pos_0'], dm_model.loc[i, 'pos_1'], s=dm_model.loc[i, 'num_p'], \n",
    "                facecolors='none', edgecolors='k', linewidths=np.log10(dm_model.loc[i, 'num_p']) / 7.5, marker = 'o')\n",
    "\n",
    "ax.set_xlabel('X-position [Mpc]')\n",
    "ax.set_ylabel('Y-position [Mpc]')\n",
    "\n",
    "min_x, max_x = np.min(dm_model.loc[sub_mask, 'pos_0']), np.max(dm_model.loc[sub_mask, 'pos_0'])\n",
    "min_y, max_y = np.min(dm_model.loc[sub_mask, 'pos_1']), np.max(dm_model.loc[sub_mask, 'pos_1'])\n",
    "\n",
    "scale = 1.5\n",
    "\n",
    "ax.set_xlim(min_x * scale, max_x * scale)\n",
    "ax.set_ylim(min_y * scale, max_y * scale)\n",
    "\n",
    "plt.tight_layout()\n",
    "plt.show()"
   ]
  }
 ],
 "metadata": {
  "kernelspec": {
   "display_name": "cluster_dyn",
   "language": "python",
   "name": "python3"
  },
  "language_info": {
   "codemirror_mode": {
    "name": "ipython",
    "version": 3
   },
   "file_extension": ".py",
   "mimetype": "text/x-python",
   "name": "python",
   "nbconvert_exporter": "python",
   "pygments_lexer": "ipython3",
   "version": "3.11.13"
  }
 },
 "nbformat": 4,
 "nbformat_minor": 2
}
