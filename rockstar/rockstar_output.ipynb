{
 "cells": [
  {
   "cell_type": "code",
   "execution_count": null,
   "metadata": {},
   "outputs": [],
   "source": [
    "import numpy as np \n",
    "import matplotlib.pyplot as plt\n",
    "import pandas as pd\n",
    "import h5py\n",
    "\n",
    "from mpl_toolkits.mplot3d import Axes3D\n",
    "\n",
    "import sys\n",
    "sys.path.append(\"/home/habjan.e/TNG/TNG_cluster_dynamics\")\n",
    "import TNG_DA"
   ]
  },
  {
   "cell_type": "markdown",
   "metadata": {},
   "source": [
    "### Import particle data"
   ]
  },
  {
   "cell_type": "code",
   "execution_count": null,
   "metadata": {},
   "outputs": [],
   "source": [
    "fName = '/home/habjan.e/TNG/Data/TNG_data/halo_cutouts_dm'\n",
    "\n",
    "with h5py.File(fName+'.hdf5', 'r') as f:\n",
    "\n",
    "    part_coordinates = f['PartType1']['Coordinates'][:]\n",
    "    velocities = f['PartType1']['Velocities'][:]\n",
    "    ids = f['PartType1']['ParticleIDs'][:]\n",
    "\n",
    "masses = np.zeros(part_coordinates.shape[0]) + 5.9 * 10**7\n",
    "\n",
    "coordinates = TNG_DA.coord_cm_corr(cluster_ind = 0, coordinates = part_coordinates)"
   ]
  },
  {
   "cell_type": "markdown",
   "metadata": {},
   "source": [
    "### Import ROCKSTAR pandas df"
   ]
  },
  {
   "cell_type": "code",
   "execution_count": null,
   "metadata": {},
   "outputs": [],
   "source": [
    "output_path = '/home/habjan.e/TNG/TNG_cluster_dynamics/rockstar/rockstar_subhalos_0_new.list'\n",
    "\n",
    "\n",
    "column_names = [\"id\", \"pos_0\", \"pos_1\", \"pos_2\", \"pos_3\", \"pos_4\", \"pos_5\", \"bulkvel_0\", \"bulkvel_1\", \"bulkvel_2\", \"corevel_0\", \"corevel_1\", \"corevel_2\", \"mass_grav\", \"p_start\", \"num_p\"]\n",
    "df = pd.read_csv(output_path, sep=r\"\\s+\", comment=\"#\", names=column_names)\n",
    "df"
   ]
  },
  {
   "cell_type": "markdown",
   "metadata": {},
   "source": [
    "### Add member lists to pandas df"
   ]
  },
  {
   "cell_type": "code",
   "execution_count": null,
   "metadata": {},
   "outputs": [],
   "source": [
    "members = pd.read_csv(\"rockstar_subhalo_members_0.list\",\n",
    "                      sep=r\"\\s+\", names=[\"halo_id\",\"particle_id\"])\n",
    "grouped = members.groupby(\"halo_id\")[\"particle_id\"].apply(list)\n",
    "df[\"member_ids\"] = df[\"id\"].map(grouped)\n",
    "df.loc[np.where((df['num_p'] > 50))[0]]"
   ]
  },
  {
   "cell_type": "markdown",
   "metadata": {},
   "source": [
    "### Plot Some subhalos"
   ]
  },
  {
   "cell_type": "code",
   "execution_count": null,
   "metadata": {},
   "outputs": [],
   "source": [
    "fig = plt.figure()\n",
    "ax  = fig.add_subplot(111, projection='3d')\n",
    "\n",
    "for i in np.where((df['num_p'] > 50))[0]:\n",
    "\n",
    "    plot_bool = np.isin(ids, df['member_ids'][i])\n",
    "\n",
    "    ax.scatter(\n",
    "        coordinates[plot_bool,0],  # x\n",
    "        coordinates[plot_bool,1],  # y\n",
    "        coordinates[plot_bool,2],  # z\n",
    "        s=2              \n",
    "    )\n",
    "\n",
    "# label axes\n",
    "ax.set_xlabel('X [kpc]')\n",
    "ax.set_ylabel('Y [kpc]')\n",
    "ax.set_zlabel('Z [kpc]')\n",
    "\n",
    "plt.tight_layout()\n",
    "plt.show()"
   ]
  }
 ],
 "metadata": {
  "kernelspec": {
   "display_name": "cluster_dyn",
   "language": "python",
   "name": "python3"
  },
  "language_info": {
   "codemirror_mode": {
    "name": "ipython",
    "version": 3
   },
   "file_extension": ".py",
   "mimetype": "text/x-python",
   "name": "python",
   "nbconvert_exporter": "python",
   "pygments_lexer": "ipython3",
   "version": "3.11.11"
  }
 },
 "nbformat": 4,
 "nbformat_minor": 2
}
