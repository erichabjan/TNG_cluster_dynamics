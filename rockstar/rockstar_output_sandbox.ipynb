{
 "cells": [
  {
   "cell_type": "code",
   "execution_count": 1,
   "metadata": {},
   "outputs": [],
   "source": [
    "import numpy as np \n",
    "import matplotlib.pyplot as plt\n",
    "import pandas as pd"
   ]
  },
  {
   "cell_type": "code",
   "execution_count": 5,
   "metadata": {},
   "outputs": [],
   "source": [
    "output_path = '/home/habjan.e/TNG/TNG_cluster_dynamics/rockstar/rockstar_subhalos_0.list'\n",
    "\n",
    "df = pd.read_csv(output_path, sep=r\"\\s+\")"
   ]
  },
  {
   "cell_type": "code",
   "execution_count": 6,
   "metadata": {},
   "outputs": [
    {
     "data": {
      "text/html": [
       "<div>\n",
       "<style scoped>\n",
       "    .dataframe tbody tr th:only-of-type {\n",
       "        vertical-align: middle;\n",
       "    }\n",
       "\n",
       "    .dataframe tbody tr th {\n",
       "        vertical-align: top;\n",
       "    }\n",
       "\n",
       "    .dataframe thead th {\n",
       "        text-align: right;\n",
       "    }\n",
       "</style>\n",
       "<table border=\"1\" class=\"dataframe\">\n",
       "  <thead>\n",
       "    <tr style=\"text-align: right;\">\n",
       "      <th></th>\n",
       "      <th>#</th>\n",
       "      <th>id</th>\n",
       "      <th>x</th>\n",
       "      <th>y</th>\n",
       "      <th>z</th>\n",
       "      <th>vx</th>\n",
       "      <th>vy</th>\n",
       "      <th>vz</th>\n",
       "      <th>mass</th>\n",
       "      <th>num_p</th>\n",
       "    </tr>\n",
       "  </thead>\n",
       "  <tbody>\n",
       "    <tr>\n",
       "      <th>0</th>\n",
       "      <td>0</td>\n",
       "      <td>59000000.0</td>\n",
       "      <td>2.958086e+09</td>\n",
       "      <td>43724.558594</td>\n",
       "      <td>48819.710938</td>\n",
       "      <td>147594.703125</td>\n",
       "      <td>291.579529</td>\n",
       "      <td>0.0</td>\n",
       "      <td>38</td>\n",
       "      <td>NaN</td>\n",
       "    </tr>\n",
       "    <tr>\n",
       "      <th>1</th>\n",
       "      <td>1</td>\n",
       "      <td>59000000.0</td>\n",
       "      <td>3.510331e+09</td>\n",
       "      <td>43717.691406</td>\n",
       "      <td>48817.628906</td>\n",
       "      <td>147597.265625</td>\n",
       "      <td>-401.295929</td>\n",
       "      <td>0.0</td>\n",
       "      <td>15</td>\n",
       "      <td>NaN</td>\n",
       "    </tr>\n",
       "    <tr>\n",
       "      <th>2</th>\n",
       "      <td>2</td>\n",
       "      <td>59000000.0</td>\n",
       "      <td>3.037561e+09</td>\n",
       "      <td>43713.121094</td>\n",
       "      <td>48819.105469</td>\n",
       "      <td>147586.203125</td>\n",
       "      <td>-505.383545</td>\n",
       "      <td>0.0</td>\n",
       "      <td>13</td>\n",
       "      <td>NaN</td>\n",
       "    </tr>\n",
       "    <tr>\n",
       "      <th>3</th>\n",
       "      <td>3</td>\n",
       "      <td>59000000.0</td>\n",
       "      <td>3.066923e+09</td>\n",
       "      <td>43716.082031</td>\n",
       "      <td>48818.148438</td>\n",
       "      <td>147598.390625</td>\n",
       "      <td>-452.708191</td>\n",
       "      <td>0.0</td>\n",
       "      <td>11</td>\n",
       "      <td>NaN</td>\n",
       "    </tr>\n",
       "    <tr>\n",
       "      <th>4</th>\n",
       "      <td>4</td>\n",
       "      <td>59000000.0</td>\n",
       "      <td>2.925028e+09</td>\n",
       "      <td>43728.777344</td>\n",
       "      <td>48827.003906</td>\n",
       "      <td>147593.375000</td>\n",
       "      <td>-0.421186</td>\n",
       "      <td>0.0</td>\n",
       "      <td>11</td>\n",
       "      <td>NaN</td>\n",
       "    </tr>\n",
       "    <tr>\n",
       "      <th>...</th>\n",
       "      <td>...</td>\n",
       "      <td>...</td>\n",
       "      <td>...</td>\n",
       "      <td>...</td>\n",
       "      <td>...</td>\n",
       "      <td>...</td>\n",
       "      <td>...</td>\n",
       "      <td>...</td>\n",
       "      <td>...</td>\n",
       "      <td>...</td>\n",
       "    </tr>\n",
       "    <tr>\n",
       "      <th>1383</th>\n",
       "      <td>1383</td>\n",
       "      <td>59000000.0</td>\n",
       "      <td>3.106844e+09</td>\n",
       "      <td>43721.105469</td>\n",
       "      <td>48817.910156</td>\n",
       "      <td>147598.328125</td>\n",
       "      <td>978.414368</td>\n",
       "      <td>0.0</td>\n",
       "      <td>13</td>\n",
       "      <td>NaN</td>\n",
       "    </tr>\n",
       "    <tr>\n",
       "      <th>1384</th>\n",
       "      <td>1384</td>\n",
       "      <td>59000000.0</td>\n",
       "      <td>2.976492e+09</td>\n",
       "      <td>43715.160156</td>\n",
       "      <td>48820.000000</td>\n",
       "      <td>147575.781250</td>\n",
       "      <td>999.966125</td>\n",
       "      <td>0.0</td>\n",
       "      <td>15</td>\n",
       "      <td>NaN</td>\n",
       "    </tr>\n",
       "    <tr>\n",
       "      <th>1385</th>\n",
       "      <td>1385</td>\n",
       "      <td>59000000.0</td>\n",
       "      <td>3.157395e+09</td>\n",
       "      <td>43713.476562</td>\n",
       "      <td>48821.789062</td>\n",
       "      <td>147594.968750</td>\n",
       "      <td>1075.378540</td>\n",
       "      <td>0.0</td>\n",
       "      <td>11</td>\n",
       "      <td>NaN</td>\n",
       "    </tr>\n",
       "    <tr>\n",
       "      <th>1386</th>\n",
       "      <td>1386</td>\n",
       "      <td>59000000.0</td>\n",
       "      <td>2.944266e+09</td>\n",
       "      <td>43725.050781</td>\n",
       "      <td>48813.996094</td>\n",
       "      <td>147590.937500</td>\n",
       "      <td>1207.518188</td>\n",
       "      <td>0.0</td>\n",
       "      <td>11</td>\n",
       "      <td>NaN</td>\n",
       "    </tr>\n",
       "    <tr>\n",
       "      <th>1387</th>\n",
       "      <td>1387</td>\n",
       "      <td>59000000.0</td>\n",
       "      <td>3.051677e+09</td>\n",
       "      <td>43717.000000</td>\n",
       "      <td>48811.226562</td>\n",
       "      <td>147593.750000</td>\n",
       "      <td>1147.507568</td>\n",
       "      <td>0.0</td>\n",
       "      <td>24</td>\n",
       "      <td>NaN</td>\n",
       "    </tr>\n",
       "  </tbody>\n",
       "</table>\n",
       "<p>1388 rows × 10 columns</p>\n",
       "</div>"
      ],
      "text/plain": [
       "         #          id             x             y             z  \\\n",
       "0        0  59000000.0  2.958086e+09  43724.558594  48819.710938   \n",
       "1        1  59000000.0  3.510331e+09  43717.691406  48817.628906   \n",
       "2        2  59000000.0  3.037561e+09  43713.121094  48819.105469   \n",
       "3        3  59000000.0  3.066923e+09  43716.082031  48818.148438   \n",
       "4        4  59000000.0  2.925028e+09  43728.777344  48827.003906   \n",
       "...    ...         ...           ...           ...           ...   \n",
       "1383  1383  59000000.0  3.106844e+09  43721.105469  48817.910156   \n",
       "1384  1384  59000000.0  2.976492e+09  43715.160156  48820.000000   \n",
       "1385  1385  59000000.0  3.157395e+09  43713.476562  48821.789062   \n",
       "1386  1386  59000000.0  2.944266e+09  43725.050781  48813.996094   \n",
       "1387  1387  59000000.0  3.051677e+09  43717.000000  48811.226562   \n",
       "\n",
       "                 vx           vy   vz  mass  num_p  \n",
       "0     147594.703125   291.579529  0.0    38    NaN  \n",
       "1     147597.265625  -401.295929  0.0    15    NaN  \n",
       "2     147586.203125  -505.383545  0.0    13    NaN  \n",
       "3     147598.390625  -452.708191  0.0    11    NaN  \n",
       "4     147593.375000    -0.421186  0.0    11    NaN  \n",
       "...             ...          ...  ...   ...    ...  \n",
       "1383  147598.328125   978.414368  0.0    13    NaN  \n",
       "1384  147575.781250   999.966125  0.0    15    NaN  \n",
       "1385  147594.968750  1075.378540  0.0    11    NaN  \n",
       "1386  147590.937500  1207.518188  0.0    11    NaN  \n",
       "1387  147593.750000  1147.507568  0.0    24    NaN  \n",
       "\n",
       "[1388 rows x 10 columns]"
      ]
     },
     "execution_count": 6,
     "metadata": {},
     "output_type": "execute_result"
    }
   ],
   "source": [
    "df"
   ]
  },
  {
   "cell_type": "code",
   "execution_count": 12,
   "metadata": {},
   "outputs": [
    {
     "data": {
      "text/plain": [
       "(3.1666666666666665, 18.833333333333332, 20.85)"
      ]
     },
     "execution_count": 12,
     "metadata": {},
     "output_type": "execute_result"
    }
   ],
   "source": [
    "((1 / 0.001) * 0.19) / 60, ((1 / 0.005) * 5.65) / 60, ((1 / 0.01) * 12.51) / 60"
   ]
  },
  {
   "cell_type": "code",
   "execution_count": 9,
   "metadata": {},
   "outputs": [
    {
     "data": {
      "text/plain": [
       "18.833333333333332"
      ]
     },
     "execution_count": 9,
     "metadata": {},
     "output_type": "execute_result"
    }
   ],
   "source": [
    "1130 / 60"
   ]
  },
  {
   "cell_type": "code",
   "execution_count": 10,
   "metadata": {},
   "outputs": [
    {
     "data": {
      "text/plain": [
       "0.06666666666666667"
      ]
     },
     "execution_count": 10,
     "metadata": {},
     "output_type": "execute_result"
    }
   ],
   "source": [
    "1 / 15"
   ]
  },
  {
   "cell_type": "code",
   "execution_count": null,
   "metadata": {},
   "outputs": [],
   "source": []
  }
 ],
 "metadata": {
  "kernelspec": {
   "display_name": "cluster_dyn",
   "language": "python",
   "name": "python3"
  },
  "language_info": {
   "codemirror_mode": {
    "name": "ipython",
    "version": 3
   },
   "file_extension": ".py",
   "mimetype": "text/x-python",
   "name": "python",
   "nbconvert_exporter": "python",
   "pygments_lexer": "ipython3",
   "version": "3.11.11"
  }
 },
 "nbformat": 4,
 "nbformat_minor": 2
}
