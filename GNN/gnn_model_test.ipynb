{
 "cells": [
  {
   "cell_type": "code",
   "execution_count": null,
   "metadata": {},
   "outputs": [],
   "source": [
    "dirc_path = '/home/habjan.e/'\n",
    "\n",
    "import sys\n",
    "sys.path.append(dirc_path + \"TNG/TNG_cluster_dynamics\")\n",
    "import TNG_DA\n",
    "import numpy as np \n",
    "import matplotlib.pyplot as plt\n",
    "from IPython.display import display, Markdown\n",
    "from astropy.io import fits\n",
    "from astropy.table import Table\n",
    "\n",
    "import tensorflow_datasets as tfds\n",
    "import tensorflow as tf\n",
    "\n",
    "import os\n",
    "sys.path.append(os.getcwd())\n",
    "from training_structure import train_model, create_dataloader"
   ]
  },
  {
   "cell_type": "code",
   "execution_count": null,
   "metadata": {},
   "outputs": [],
   "source": [
    "import multiprocessing as mp"
   ]
  },
  {
   "cell_type": "code",
   "execution_count": null,
   "metadata": {},
   "outputs": [],
   "source": [
    "pro_num = os.cpu_count()\n",
    "pool = mp.Pool(processes = pro_num)\n",
    "split = pro_num\n",
    "\n",
    "batch = math.ceil(len(train)/split)\n",
    "train_list = [train[i:i+batch] for i in range(0, len(train), batch)]\n",
    "param_train_list = [(train_list[i], 'train') for i in range(len(train_list))]\n",
    "train_processes = [pool.apply_async(main, args = p) for p in param_train_list]\n",
    "\n",
    "batch = math.ceil(len(test)/split)\n",
    "test_list = [test[i:i+batch] for i in range(0, len(test), batch)]\n",
    "param_test_list = [(test_list[i], 'test') for i in range(len(test_list))]\n",
    "test_processes = [pool.apply_async(main, args = p) for p in param_test_list]"
   ]
  }
 ],
 "metadata": {
  "kernelspec": {
   "display_name": "Python 3",
   "language": "python",
   "name": "python3"
  },
  "language_info": {
   "codemirror_mode": {
    "name": "ipython",
    "version": 3
   },
   "file_extension": ".py",
   "mimetype": "text/x-python",
   "name": "python",
   "nbconvert_exporter": "python",
   "pygments_lexer": "ipython3",
   "version": "3.11.11"
  }
 },
 "nbformat": 4,
 "nbformat_minor": 2
}
