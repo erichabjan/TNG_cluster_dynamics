{
 "cells": [
  {
   "cell_type": "code",
   "execution_count": null,
   "metadata": {},
   "outputs": [],
   "source": [
    "dirc_path = '/home/habjan.e/'\n",
    "\n",
    "import sys\n",
    "sys.path.append(dirc_path + \"TNG/TNG_cluster_dynamics\")\n",
    "import TNG_DA\n",
    "import numpy as np \n",
    "import matplotlib.pyplot as plt\n",
    "from IPython.display import display, Markdown\n",
    "from astropy.io import fits\n",
    "from astropy.table import Table\n",
    "import pickle\n",
    "\n",
    "import os\n",
    "sys.path.append(os.getcwd())\n",
    "from training_structure import train_model, create_dataloader, predict"
   ]
  },
  {
   "cell_type": "markdown",
   "metadata": {},
   "source": [
    "### Import parameters"
   ]
  },
  {
   "cell_type": "code",
   "execution_count": null,
   "metadata": {},
   "outputs": [],
   "source": [
    "suffix_jax = ''\n",
    "\n",
    "save_path = os.getcwd() + '/GNN_models/gnn_model_params' + suffix_jax + '.pkl'\n",
    "\n",
    "with open(save_path, 'rb') as f:\n",
    "    loaded_params = pickle.load(f)"
   ]
  },
  {
   "cell_type": "markdown",
   "metadata": {},
   "source": [
    "### Import model"
   ]
  },
  {
   "cell_type": "code",
   "execution_count": null,
   "metadata": {},
   "outputs": [],
   "source": [
    "import sys\n",
    "sys.path.append(os.getcwd())\n",
    "from gnn import GraphConvNet\n",
    "model = GraphConvNet(latent_size = 128, hidden_size = 256, num_mlp_layers = 3, message_passing_steps = 5)"
   ]
  },
  {
   "cell_type": "markdown",
   "metadata": {},
   "source": [
    "### Make predictions using the trained model"
   ]
  },
  {
   "cell_type": "code",
   "execution_count": null,
   "metadata": {},
   "outputs": [],
   "source": [
    "batch_file_path = \"/projects/mccleary_group/habjan.e/TNG/Data/GNN_SBI_data/graph_data\"\n",
    "\n",
    "pred_train, tgt_train, mask_train = predict(model = model, params = loaded_params, data_dir = batch_file_path, data_prefix = 'train')\n",
    "pred_test, tgt_test, mask_test = predict(model = model, params = loaded_params, data_dir = batch_file_path, data_prefix = 'test')"
   ]
  },
  {
   "cell_type": "markdown",
   "metadata": {},
   "source": [
    "### Compare true TNG positions/velocities with predictions"
   ]
  },
  {
   "cell_type": "code",
   "execution_count": null,
   "metadata": {},
   "outputs": [],
   "source": [
    "fig, axs = plt.subplots(1, 3, figsize=(16, 4), gridspec_kw={'wspace': 0.3})\n",
    "\n",
    "# Plot into each subplot\n",
    "axs[0].scatter(pos[:, 2], z_pos_result, c='k', s=10)\n",
    "axs[0].set_xlabel('TNG galaxy z-position [kpc]', fontsize = 12)\n",
    "axs[0].set_ylabel('GNN z-position [kpc]', fontsize = 12)\n",
    "\n",
    "axs[1].scatter(vel[:, 0], x_vel_result, c='k', s=10)\n",
    "axs[1].set_xlabel('TNG galaxy x-velocity [$km s^{-1}$]', fontsize = 12)\n",
    "axs[1].set_ylabel('GNN x-velocity [$km s^{-1}$]', fontsize = 12)\n",
    "\n",
    "axs[2].scatter(vel[:, 1], y_vel_result, c='k', s=10)\n",
    "axs[2].set_xlabel('TNG galaxy y-velocity [$km s^{-1}$]', fontsize = 12)\n",
    "axs[2].set_ylabel('GNN y-velocity [$km s^{-1}$]', fontsize = 12)"
   ]
  }
 ],
 "metadata": {
  "kernelspec": {
   "display_name": "Python 3",
   "language": "python",
   "name": "python3"
  },
  "language_info": {
   "codemirror_mode": {
    "name": "ipython",
    "version": 3
   },
   "file_extension": ".py",
   "mimetype": "text/x-python",
   "name": "python",
   "nbconvert_exporter": "python",
   "pygments_lexer": "ipython3",
   "version": "3.11.13"
  }
 },
 "nbformat": 4,
 "nbformat_minor": 2
}
