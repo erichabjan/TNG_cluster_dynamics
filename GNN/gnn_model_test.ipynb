{
 "cells": [
  {
   "cell_type": "code",
   "execution_count": null,
   "metadata": {},
   "outputs": [],
   "source": [
    "dirc_path = '/home/habjan.e/'\n",
    "\n",
    "import sys\n",
    "sys.path.append(dirc_path + \"TNG/TNG_cluster_dynamics\")\n",
    "import TNG_DA\n",
    "import numpy as np \n",
    "import matplotlib.pyplot as plt\n",
    "from matplotlib.ticker import ScalarFormatter\n",
    "from IPython.display import display, Markdown\n",
    "from astropy.io import fits\n",
    "from astropy.table import Table\n",
    "import pickle\n",
    "\n",
    "import os\n",
    "sys.path.append(os.getcwd())\n",
    "from training_structure import train_model, predict\n",
    "\n",
    "import jraph\n",
    "import jax.numpy as jnp"
   ]
  },
  {
   "cell_type": "markdown",
   "metadata": {},
   "source": [
    "### Import parameters"
   ]
  },
  {
   "cell_type": "code",
   "execution_count": null,
   "metadata": {},
   "outputs": [],
   "source": [
    "suffix_jax = '_new'\n",
    "\n",
    "save_path = os.getcwd() + '/GNN_models/gnn_model_params' + suffix_jax + '.pkl'\n",
    "\n",
    "with open(save_path, 'rb') as f:\n",
    "    loaded_params = pickle.load(f)"
   ]
  },
  {
   "cell_type": "markdown",
   "metadata": {},
   "source": [
    "### Import model"
   ]
  },
  {
   "cell_type": "code",
   "execution_count": null,
   "metadata": {},
   "outputs": [],
   "source": [
    "import sys\n",
    "sys.path.append(os.getcwd())\n",
    "from gnn import GraphConvNet\n",
    "model = GraphConvNet(latent_size = 128, hidden_size = 256, num_mlp_layers = 3, message_passing_steps = 5, norm = \"graph\")"
   ]
  },
  {
   "cell_type": "markdown",
   "metadata": {},
   "source": [
    "### Make predictions using the trained model"
   ]
  },
  {
   "cell_type": "code",
   "execution_count": null,
   "metadata": {},
   "outputs": [],
   "source": [
    "batch_file_path = \"/projects/mccleary_group/habjan.e/TNG/Data/GNN_SBI_data/graph_data\"\n",
    "\n",
    "#pred_train, tgt_train, mask_train = predict(model = model, params = loaded_params, data_dir = batch_file_path, data_prefix = 'train')\n",
    "#pred_test, tgt_test, mask_test = predict(model = model, params = loaded_params, data_dir = batch_file_path, data_prefix = 'test')"
   ]
  },
  {
   "cell_type": "markdown",
   "metadata": {},
   "source": [
    "### Pick a cluster to look at"
   ]
  },
  {
   "cell_type": "code",
   "execution_count": null,
   "metadata": {},
   "outputs": [],
   "source": [
    "cluster_ind = 5\n",
    "\n",
    "pos, vel, groups, subhalo_masses, h, halo_mass = TNG_DA.get_cluster_props(cluster_ind)"
   ]
  },
  {
   "cell_type": "markdown",
   "metadata": {},
   "source": [
    "### Define some functions that will be used to make classifications"
   ]
  },
  {
   "cell_type": "code",
   "execution_count": null,
   "metadata": {},
   "outputs": [],
   "source": [
    "LATENT_SIZE = 128\n",
    "\n",
    "def make_graph(nodes_np: np.ndarray) -> jraph.GraphsTuple:\n",
    "    \"\"\"Convert (N_i, 3) numpy array -> node-only GraphsTuple.\"\"\"\n",
    "\n",
    "    nodes = jnp.asarray(nodes_np)\n",
    "    N_i   = nodes.shape[0]\n",
    "    empty = jnp.zeros((0,), dtype=jnp.int32)\n",
    "    dummy_globals = jnp.zeros((1, LATENT_SIZE), dtype=jnp.float32)\n",
    "\n",
    "    return jraph.GraphsTuple(\n",
    "        nodes=nodes,             \n",
    "        edges=None,\n",
    "        senders=empty,\n",
    "        receivers=empty,\n",
    "        n_node=jnp.array([N_i], dtype=jnp.int32),\n",
    "        n_edge=jnp.array([0],  dtype=jnp.int32),\n",
    "        globals=dummy_globals\n",
    "    )\n",
    "\n",
    "def prediction(model, params, in_graph):\n",
    "    \"\"\"\n",
    "    Make predictions with a trained model.\n",
    "    \"\"\"\n",
    "        \n",
    "    preds = model.apply({'params': params}, in_graph, deterministic = True)\n",
    "\n",
    "    return preds.nodes #jnp.concatenate(preds.nodes, axis=0).squeeze()"
   ]
  },
  {
   "cell_type": "markdown",
   "metadata": {},
   "source": [
    "### Make a graph for a single cluster"
   ]
  },
  {
   "cell_type": "code",
   "execution_count": null,
   "metadata": {},
   "outputs": [],
   "source": [
    "x_mean = np.nanmean(pos[:, 0])\n",
    "y_mean = np.nanmean(pos[:, 1])\n",
    "vz_mean = np.nanmean(vel[:, 2])\n",
    "\n",
    "x_std = np.nanstd(pos[:, 0])\n",
    "y_std = np.nanstd(pos[:, 1])\n",
    "vz_std = np.nanstd(vel[:, 2])\n",
    "\n",
    "obs_arr = np.array([(pos[:, 0] - x_mean) / x_std, (pos[:, 1] - y_mean) / y_std, (vel[:, 2] - vz_mean) / vz_std]).T\n",
    "\n",
    "cl_graph = make_graph(obs_arr)"
   ]
  },
  {
   "cell_type": "markdown",
   "metadata": {},
   "source": [
    "### Predict on this single cluster"
   ]
  },
  {
   "cell_type": "code",
   "execution_count": null,
   "metadata": {},
   "outputs": [],
   "source": [
    "preds = prediction(model = model, params = loaded_params, in_graph = cl_graph)"
   ]
  },
  {
   "cell_type": "markdown",
   "metadata": {},
   "source": [
    "### Compare true TNG positions/velocities with predictions"
   ]
  },
  {
   "cell_type": "code",
   "execution_count": null,
   "metadata": {},
   "outputs": [],
   "source": [
    "fig, axs = plt.subplots(1, 3, figsize=(16, 4), gridspec_kw={'wspace': 0.3})\n",
    "\n",
    "pos_mean = np.mean([x_mean, y_mean])\n",
    "pos_std = np.mean([x_std, y_std])\n",
    "\n",
    "# Plot into each subplot\n",
    "axs[0].scatter(pos[:, 2], (preds[:, 0] * pos_std) + pos_mean, c='k', s=10)\n",
    "axs[0].set_xlabel('TNG galaxy z-position [kpc]', fontsize = 17.5)\n",
    "axs[0].set_ylabel('GNN z-position [kpc]', fontsize = 17.5)\n",
    "\n",
    "axs[1].scatter(vel[:, 0], (preds[:, 1] * vz_std) + vz_mean, c='k', s=10)\n",
    "axs[1].set_xlabel('TNG galaxy x-velocity [$km s^{-1}$]', fontsize = 17.5)\n",
    "axs[1].set_ylabel('GNN x-velocity [$km s^{-1}$]', fontsize = 17.5)\n",
    "\n",
    "axs[2].scatter(vel[:, 1], (preds[:, 2] * vz_std) + vz_mean, c='k', s=10)\n",
    "axs[2].set_xlabel('TNG galaxy y-velocity [$km s^{-1}$]', fontsize = 17.5)\n",
    "axs[2].set_ylabel('GNN y-velocity [$km s^{-1}$]', fontsize = 17.5)"
   ]
  },
  {
   "cell_type": "markdown",
   "metadata": {},
   "source": [
    "### Import loss arrays"
   ]
  },
  {
   "cell_type": "code",
   "execution_count": null,
   "metadata": {},
   "outputs": [],
   "source": [
    "data_path = '/home/habjan.e/TNG/Sandbox_notebooks/phase_space_recon/Loss_arrays/'\n",
    "\n",
    "test_loss = np.load(data_path + 'test_loss' + suffix_jax + '.npy')\n",
    "train_loss = np.load(data_path + 'train_loss' + suffix_jax + '.npy')\n",
    "epochs = np.arange(1, len(train_loss) + 1)"
   ]
  },
  {
   "cell_type": "markdown",
   "metadata": {},
   "source": [
    "### Plot losses"
   ]
  },
  {
   "cell_type": "code",
   "execution_count": null,
   "metadata": {},
   "outputs": [],
   "source": [
    "fig, axs = plt.subplots(1, 2, figsize=(10, 4), gridspec_kw={'wspace': 0.2})\n",
    "\n",
    "\n",
    "axs[0].plot(epochs, train_loss, color = 'blue', label = 'Training Loss')\n",
    "axs[1].plot(epochs, test_loss, color = 'red', label = 'Validation Loss')\n",
    "\n",
    "axs[0].set_xlabel('Epoch', fontsize = 20)\n",
    "axs[1].set_xlabel('Epoch', fontsize = 20)\n",
    "axs[0].set_ylabel(r'MSE Loss', fontsize = 20)\n",
    "\n",
    "#axs[0].set_yscale('symlog', linthresh=1)\n",
    "#axs[1].set_yscale('symlog', linthresh=1)\n",
    "\n",
    "for ax in axs:\n",
    "    fmt = ScalarFormatter(useMathText=True)\n",
    "    fmt.set_scientific(True)\n",
    "    fmt.set_powerlimits((0, 0))\n",
    "    fmt.set_useOffset(False)\n",
    "    ax.yaxis.set_major_formatter(fmt)\n",
    "\n",
    "axs[0].legend()\n",
    "axs[1].legend()"
   ]
  }
 ],
 "metadata": {
  "kernelspec": {
   "display_name": "Python 3",
   "language": "python",
   "name": "python3"
  },
  "language_info": {
   "codemirror_mode": {
    "name": "ipython",
    "version": 3
   },
   "file_extension": ".py",
   "mimetype": "text/x-python",
   "name": "python",
   "nbconvert_exporter": "python",
   "pygments_lexer": "ipython3",
   "version": "3.11.13"
  }
 },
 "nbformat": 4,
 "nbformat_minor": 2
}
