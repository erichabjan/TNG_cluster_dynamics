{
 "cells": [
  {
   "cell_type": "code",
   "execution_count": 1,
   "metadata": {},
   "outputs": [],
   "source": [
    "import TNG_DA\n",
    "import numpy as np \n",
    "import matplotlib.pyplot as plt\n",
    "import pandas as pd"
   ]
  },
  {
   "cell_type": "markdown",
   "metadata": {},
   "source": [
    "# DS+ and Virial Theorem plots"
   ]
  },
  {
   "cell_type": "markdown",
   "metadata": {},
   "source": [
    "### Import Data"
   ]
  },
  {
   "cell_type": "code",
   "execution_count": 2,
   "metadata": {},
   "outputs": [],
   "source": [
    "df_path = \"/home/habjan.e/TNG/Data/data_DS+_virial_results/DS+_Virial_df.csv\"\n",
    "df = pd.read_csv(df_path)"
   ]
  },
  {
   "cell_type": "code",
   "execution_count": 3,
   "metadata": {},
   "outputs": [
    {
     "data": {
      "text/html": [
       "<div>\n",
       "<style scoped>\n",
       "    .dataframe tbody tr th:only-of-type {\n",
       "        vertical-align: middle;\n",
       "    }\n",
       "\n",
       "    .dataframe tbody tr th {\n",
       "        vertical-align: top;\n",
       "    }\n",
       "\n",
       "    .dataframe thead th {\n",
       "        text-align: right;\n",
       "    }\n",
       "</style>\n",
       "<table border=\"1\" class=\"dataframe\">\n",
       "  <thead>\n",
       "    <tr style=\"text-align: right;\">\n",
       "      <th></th>\n",
       "      <th>Cluster Index</th>\n",
       "      <th>Projection x-Direction</th>\n",
       "      <th>Projection y-Direction</th>\n",
       "      <th>Projection z-Direction</th>\n",
       "      <th>Completeness</th>\n",
       "      <th>Completeness Uncertainty</th>\n",
       "      <th>Purity</th>\n",
       "      <th>Purity Uncertainty</th>\n",
       "      <th>Virial Halo Mass</th>\n",
       "    </tr>\n",
       "  </thead>\n",
       "  <tbody>\n",
       "    <tr>\n",
       "      <th>0</th>\n",
       "      <td>3</td>\n",
       "      <td>-0.595276</td>\n",
       "      <td>-0.860206</td>\n",
       "      <td>0.188564</td>\n",
       "      <td>0.708333</td>\n",
       "      <td>0.037684</td>\n",
       "      <td>0.244604</td>\n",
       "      <td>0.015904</td>\n",
       "      <td>8.226813e+14</td>\n",
       "    </tr>\n",
       "    <tr>\n",
       "      <th>1</th>\n",
       "      <td>3</td>\n",
       "      <td>-0.716088</td>\n",
       "      <td>0.636496</td>\n",
       "      <td>-0.622205</td>\n",
       "      <td>0.666667</td>\n",
       "      <td>0.066989</td>\n",
       "      <td>0.222222</td>\n",
       "      <td>0.018903</td>\n",
       "      <td>6.912321e+14</td>\n",
       "    </tr>\n",
       "    <tr>\n",
       "      <th>2</th>\n",
       "      <td>3</td>\n",
       "      <td>-0.132594</td>\n",
       "      <td>-0.434955</td>\n",
       "      <td>-0.825670</td>\n",
       "      <td>0.541667</td>\n",
       "      <td>0.047568</td>\n",
       "      <td>0.216667</td>\n",
       "      <td>0.015268</td>\n",
       "      <td>1.117757e+15</td>\n",
       "    </tr>\n",
       "    <tr>\n",
       "      <th>3</th>\n",
       "      <td>3</td>\n",
       "      <td>0.897466</td>\n",
       "      <td>-0.672714</td>\n",
       "      <td>-0.300039</td>\n",
       "      <td>0.520833</td>\n",
       "      <td>0.052870</td>\n",
       "      <td>0.206612</td>\n",
       "      <td>0.020174</td>\n",
       "      <td>1.250940e+15</td>\n",
       "    </tr>\n",
       "    <tr>\n",
       "      <th>4</th>\n",
       "      <td>3</td>\n",
       "      <td>-0.757156</td>\n",
       "      <td>-0.161701</td>\n",
       "      <td>0.684104</td>\n",
       "      <td>0.729167</td>\n",
       "      <td>0.050112</td>\n",
       "      <td>0.241379</td>\n",
       "      <td>0.022981</td>\n",
       "      <td>1.213218e+15</td>\n",
       "    </tr>\n",
       "    <tr>\n",
       "      <th>5</th>\n",
       "      <td>3</td>\n",
       "      <td>0.602978</td>\n",
       "      <td>0.440347</td>\n",
       "      <td>0.723074</td>\n",
       "      <td>0.583333</td>\n",
       "      <td>0.085989</td>\n",
       "      <td>0.224000</td>\n",
       "      <td>0.031334</td>\n",
       "      <td>8.687426e+14</td>\n",
       "    </tr>\n",
       "    <tr>\n",
       "      <th>6</th>\n",
       "      <td>3</td>\n",
       "      <td>-0.929623</td>\n",
       "      <td>0.933674</td>\n",
       "      <td>0.138351</td>\n",
       "      <td>0.645833</td>\n",
       "      <td>0.074246</td>\n",
       "      <td>0.212329</td>\n",
       "      <td>0.028189</td>\n",
       "      <td>1.105467e+15</td>\n",
       "    </tr>\n",
       "    <tr>\n",
       "      <th>7</th>\n",
       "      <td>3</td>\n",
       "      <td>-0.873153</td>\n",
       "      <td>-0.344202</td>\n",
       "      <td>0.474789</td>\n",
       "      <td>0.708333</td>\n",
       "      <td>0.052937</td>\n",
       "      <td>0.236111</td>\n",
       "      <td>0.023552</td>\n",
       "      <td>1.149277e+15</td>\n",
       "    </tr>\n",
       "    <tr>\n",
       "      <th>8</th>\n",
       "      <td>3</td>\n",
       "      <td>0.954052</td>\n",
       "      <td>0.515245</td>\n",
       "      <td>-0.149140</td>\n",
       "      <td>0.750000</td>\n",
       "      <td>0.053049</td>\n",
       "      <td>0.238411</td>\n",
       "      <td>0.025682</td>\n",
       "      <td>9.613217e+14</td>\n",
       "    </tr>\n",
       "    <tr>\n",
       "      <th>9</th>\n",
       "      <td>3</td>\n",
       "      <td>0.479113</td>\n",
       "      <td>0.624570</td>\n",
       "      <td>0.127069</td>\n",
       "      <td>0.500000</td>\n",
       "      <td>0.086879</td>\n",
       "      <td>0.193548</td>\n",
       "      <td>0.037439</td>\n",
       "      <td>8.128120e+14</td>\n",
       "    </tr>\n",
       "  </tbody>\n",
       "</table>\n",
       "</div>"
      ],
      "text/plain": [
       "   Cluster Index  Projection x-Direction  Projection y-Direction  \\\n",
       "0              3               -0.595276               -0.860206   \n",
       "1              3               -0.716088                0.636496   \n",
       "2              3               -0.132594               -0.434955   \n",
       "3              3                0.897466               -0.672714   \n",
       "4              3               -0.757156               -0.161701   \n",
       "5              3                0.602978                0.440347   \n",
       "6              3               -0.929623                0.933674   \n",
       "7              3               -0.873153               -0.344202   \n",
       "8              3                0.954052                0.515245   \n",
       "9              3                0.479113                0.624570   \n",
       "\n",
       "   Projection z-Direction  Completeness  Completeness Uncertainty    Purity  \\\n",
       "0                0.188564      0.708333                  0.037684  0.244604   \n",
       "1               -0.622205      0.666667                  0.066989  0.222222   \n",
       "2               -0.825670      0.541667                  0.047568  0.216667   \n",
       "3               -0.300039      0.520833                  0.052870  0.206612   \n",
       "4                0.684104      0.729167                  0.050112  0.241379   \n",
       "5                0.723074      0.583333                  0.085989  0.224000   \n",
       "6                0.138351      0.645833                  0.074246  0.212329   \n",
       "7                0.474789      0.708333                  0.052937  0.236111   \n",
       "8               -0.149140      0.750000                  0.053049  0.238411   \n",
       "9                0.127069      0.500000                  0.086879  0.193548   \n",
       "\n",
       "   Purity Uncertainty  Virial Halo Mass  \n",
       "0            0.015904      8.226813e+14  \n",
       "1            0.018903      6.912321e+14  \n",
       "2            0.015268      1.117757e+15  \n",
       "3            0.020174      1.250940e+15  \n",
       "4            0.022981      1.213218e+15  \n",
       "5            0.031334      8.687426e+14  \n",
       "6            0.028189      1.105467e+15  \n",
       "7            0.023552      1.149277e+15  \n",
       "8            0.025682      9.613217e+14  \n",
       "9            0.037439      8.128120e+14  "
      ]
     },
     "execution_count": 3,
     "metadata": {},
     "output_type": "execute_result"
    }
   ],
   "source": [
    "df"
   ]
  },
  {
   "cell_type": "code",
   "execution_count": 4,
   "metadata": {},
   "outputs": [],
   "source": [
    "test = np.load('/home/habjan.e/TNG/Data/data_DS+_virial_results/subhalo_masses.npy')"
   ]
  },
  {
   "cell_type": "code",
   "execution_count": 5,
   "metadata": {},
   "outputs": [
    {
     "data": {
      "text/plain": [
       "(10, 211)"
      ]
     },
     "execution_count": 5,
     "metadata": {},
     "output_type": "execute_result"
    }
   ],
   "source": [
    "test.shape"
   ]
  },
  {
   "cell_type": "code",
   "execution_count": null,
   "metadata": {},
   "outputs": [],
   "source": []
  }
 ],
 "metadata": {
  "kernelspec": {
   "display_name": "Python 3",
   "language": "python",
   "name": "python3"
  },
  "language_info": {
   "codemirror_mode": {
    "name": "ipython",
    "version": 3
   },
   "file_extension": ".py",
   "mimetype": "text/x-python",
   "name": "python",
   "nbconvert_exporter": "python",
   "pygments_lexer": "ipython3",
   "version": "3.12.4"
  },
  "orig_nbformat": 4
 },
 "nbformat": 4,
 "nbformat_minor": 2
}
