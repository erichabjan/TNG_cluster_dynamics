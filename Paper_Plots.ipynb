{
 "cells": [
  {
   "cell_type": "code",
   "execution_count": null,
   "metadata": {},
   "outputs": [],
   "source": [
    "#import TNG_DA\n",
    "import numpy as np \n",
    "import matplotlib.pyplot as plt\n",
    "import pandas as pd\n",
    "from pathlib import Path"
   ]
  },
  {
   "cell_type": "markdown",
   "metadata": {},
   "source": [
    "### Import BAHAMAS ROCKSTAR output"
   ]
  },
  {
   "cell_type": "code",
   "execution_count": null,
   "metadata": {},
   "outputs": [],
   "source": [
    "models = [\"CDMb\", \"SIDM0.1b\", \"SIDM0.3b\", \"SIDM1b\", \"vdSIDMb\", \"tng\"]\n",
    "cluster_ids = [f\"{i:03d}\" for i in range(1, 101)]  # \"001\"...\"100\"\n",
    "cluster_ids_tng = [f\"{i:01d}\" for i in range(0, 101)]  # \"1\"...\"100\"\n",
    "\n",
    "column_names = [\"id\", \"pos_0\", \"pos_1\", \"pos_2\", \"pos_3\", \"pos_4\", \"pos_5\",\n",
    "                \"mass_grav\", \"vrms\", \"vmax\", \"rvmax\", \"p_start\", \"num_p\"]\n",
    "\n",
    "base_path = \"/projects/mccleary_group/habjan.e/TNG/Data/rockstar_output\"\n",
    "\n",
    "# If True, load all NPZ arrays into memory; if False, just record file paths (saves RAM)\n",
    "LOAD_NPZ = False\n",
    "\n",
    "# ---------- Outputs ----------\n",
    "# Per-model combined DataFrames (10 clusters stacked for each model)\n",
    "subhalos_df_by_model = {}     # model -> DataFrame of subhalos\n",
    "members_df_by_model  = {}     # model -> DataFrame of subhalo members\n",
    "\n",
    "# Optional: NPZ data per model (either loaded dicts or file paths)\n",
    "npz_by_model = {}             # model -> {cluster_id: dict_of_arrays or path}\n",
    "\n",
    "# ---------- Loader ----------\n",
    "for model in models:\n",
    "    subhalo_frames = []\n",
    "    member_frames  = []\n",
    "    npz_store = {}\n",
    "\n",
    "    if model == 'tng':\n",
    "        cluster_ids = cluster_ids_tng\n",
    "\n",
    "    for cid in cluster_ids:\n",
    "        # Subhalo catalog .list\n",
    "        if model == 'tng':\n",
    "            subhalos_file = base_path + '/' + model + f\"_rockstar_output/rockstar_subhalos_{cid}.list\"\n",
    "        else: \n",
    "            subhalos_file = base_path + '/' + model + f\"_rockstar_output/bahamas_rockstar_subhalos_{model}_{cid}.list\"\n",
    "\n",
    "        df = pd.read_csv(subhalos_file, sep=r\"\\s+\", comment=\"#\", names=column_names, engine=\"python\")\n",
    "        df[\"cluster_id\"] = cid\n",
    "        df[\"dm_model\"] = model\n",
    "        subhalo_frames.append(df)\n",
    "\n",
    "    # Concatenate per-model DataFrames\n",
    "    subhalos_df_by_model[model] = pd.concat(subhalo_frames, ignore_index=True)\n",
    "\n",
    "df_CDMb      = subhalos_df_by_model[\"CDMb\"]\n",
    "df_SIDM01b   = subhalos_df_by_model[\"SIDM0.1b\"]\n",
    "df_SIDM03b   = subhalos_df_by_model[\"SIDM0.3b\"]\n",
    "df_SIDM1b    = subhalos_df_by_model[\"SIDM1b\"]\n",
    "df_vdSIDMb   = subhalos_df_by_model[\"vdSIDMb\"]\n",
    "df_tng   = subhalos_df_by_model[\"tng\"]"
   ]
  },
  {
   "cell_type": "markdown",
   "metadata": {},
   "source": [
    "### function for making plots"
   ]
  },
  {
   "cell_type": "code",
   "execution_count": null,
   "metadata": {},
   "outputs": [],
   "source": [
    "def binned_mass_function(x, bins, mode=\"per_host\", n_hosts=1, use_log=True):\n",
    "    \"\"\"\n",
    "    x: values to bin (e.g., log10 M if use_log=True, else M)\n",
    "    bins: shared bin edges for all datasets (in same units as x)\n",
    "    mode: \"pdf\", \"per_host\", or \"cumulative\"\n",
    "    n_hosts: number of host halos represented by this sample (>=1)\n",
    "    use_log: if True, interprets x & bins as log10; densities are per dex\n",
    "\n",
    "    Returns: x_center, x_err, y, yerr_lo, yerr_hi\n",
    "    \"\"\"\n",
    "    x = np.asarray(x)\n",
    "    counts, _ = np.histogram(x, bins=bins)\n",
    "    widths = np.diff(bins)\n",
    "    centers = 0.5 * (bins[:-1] + bins[1:])\n",
    "    xerr = 0.5 * widths\n",
    "\n",
    "    # Gehrels (1986) approx for 68% CL Poisson errors (asymmetric)\n",
    "    n = counts.astype(float)\n",
    "    err_lo_counts = n - np.where(n>0, (np.sqrt(n + 0.75) - 1.0)**2, 0.0)\n",
    "    err_hi_counts = (np.sqrt(n + 0.75) + 1.0)**2 - n\n",
    "\n",
    "    if mode == \"pdf\":\n",
    "        scale = n.sum()\n",
    "        y = counts / (scale * widths) if scale > 0 else counts*0.0\n",
    "        ylo = err_lo_counts / (scale * widths) if scale > 0 else counts*0.0\n",
    "        yhi = err_hi_counts / (scale * widths) if scale > 0 else counts*0.0\n",
    "    elif mode == \"per_host\":\n",
    "        # differential mass function per host per dex (or per linear unit if use_log=False)\n",
    "        denom = max(n_hosts, 1)\n",
    "        y   = counts / (denom * widths)\n",
    "        ylo = err_lo_counts / (denom * widths)\n",
    "        yhi = err_hi_counts / (denom * widths)\n",
    "    elif mode == \"cumulative\":\n",
    "        # N(>x) per host; place at left edges’ centers for plotting\n",
    "        c = counts[::-1].cumsum()[::-1]\n",
    "        y   = c / max(n_hosts, 1)\n",
    "        # simple symmetric sqrt(N) (or carry Gehrels cumulatives if desired)\n",
    "        ylo = np.sqrt(c) / max(n_hosts, 1)\n",
    "        yhi = ylo\n",
    "        # for cumulative, xerr isn’t very meaningful:\n",
    "        xerr = np.zeros_like(centers)\n",
    "    else:\n",
    "        raise ValueError(\"mode must be 'pdf', 'per_host', or 'cumulative'\")\n",
    "\n",
    "    # return arrays with only bins that had any data or keep all (here we keep all)\n",
    "    return centers, xerr, y, ylo, yhi"
   ]
  },
  {
   "cell_type": "markdown",
   "metadata": {},
   "source": [
    "### Make data arrays"
   ]
  },
  {
   "cell_type": "code",
   "execution_count": null,
   "metadata": {},
   "outputs": [],
   "source": [
    "vmax_CDMb = np.array(df_CDMb['vmax'])\n",
    "vmax_SIDM01b  = np.array(df_SIDM01b ['vmax'])\n",
    "vmax_SIDM03b  = np.array(df_SIDM03b['vmax'])\n",
    "vmax_SIDM1b  = np.array(df_SIDM1b ['vmax'])\n",
    "vmax_vdSIDMb = np.array(df_vdSIDMb['vmax'])\n",
    "vmax_tng = np.array(df_tng['vmax'])\n",
    "\n",
    "vrms_CDMb = np.array(df_CDMb['vrms'])\n",
    "vrms_SIDM01b  = np.array(df_SIDM01b ['vrms'])\n",
    "vrms_SIDM03b  = np.array(df_SIDM03b['vrms'])\n",
    "vrms_SIDM1b  = np.array(df_SIDM1b ['vrms'])\n",
    "vrms_vdSIDMb = np.array(df_vdSIDMb['vrms'])\n",
    "vrms_tng = np.array(df_tng['vrms'])\n",
    "\n",
    "mass_CDMb = np.log10(np.array(df_CDMb['mass_grav']))\n",
    "mass_SIDM01b  = np.log10(np.array(df_SIDM01b ['mass_grav']))\n",
    "mass_SIDM03b  = np.log10(np.array(df_SIDM03b['mass_grav']))\n",
    "mass_SIDM1b  = np.log10(np.array(df_SIDM1b ['mass_grav']))\n",
    "mass_vdSIDMb = np.log10(np.array(df_vdSIDMb['mass_grav']))\n",
    "mass_tng = np.log10(np.array(df_tng['mass_grav']))"
   ]
  },
  {
   "cell_type": "markdown",
   "metadata": {},
   "source": [
    "### Velocity dispersion and maximum circular velcoity"
   ]
  },
  {
   "cell_type": "code",
   "execution_count": null,
   "metadata": {},
   "outputs": [],
   "source": [
    "num_bins = 50\n",
    "bins = np.linspace(50, 200, num_bins)\n",
    "\n",
    "fig, (ax1, ax2) = plt.subplots(1, 2, figsize=(12, 5), sharey=True)\n",
    "plt.subplots_adjust(wspace=0.25)\n",
    "\n",
    "### Left plot: cumulative max circular velocity function\n",
    "\n",
    "for data, color, label in [\n",
    "    (vmax_CDMb,   'red',   'BAHAMAS CDM'),\n",
    "    (vmax_SIDM01b,   'green',   'BAHAMAS SIDM 0.1'),\n",
    "    (vmax_SIDM03b,   'orange',   'BAHAMAS SIDM 0.3'),\n",
    "    (vmax_SIDM1b,   'black',   'BAHAMAS SIDM 1.0'),\n",
    "    (vmax_vdSIDMb,'blue',  'BAHAMAS vdSIDM'),\n",
    "    (vmax_tng, 'purple',  'TNG'),\n",
    "]:\n",
    "    x_mean, x_std, y, y_err, _ = binned_mass_function(data, bins, mode=\"cumulative\", n_hosts=data.shape[0])\n",
    "\n",
    "    # points with both horizontal (std in bin) and vertical (Poisson on density) errors\n",
    "    ax1.errorbar(x_mean, y, xerr=x_std, yerr=y_err,\n",
    "                 fmt='o', ms=3, capsize=2, elinewidth=1,\n",
    "                 color=color, label=label, linestyle='none', alpha=0.9)\n",
    "\n",
    "bins = np.linspace(0, 200, num_bins)\n",
    "\n",
    "### Right plot: cumulative velocity dispersion function\n",
    "\n",
    "for data, color, label in [\n",
    "    (vrms_CDMb,   'red',   'BAHAMAS CDM'),\n",
    "    (vrms_SIDM01b,   'green',   'BAHAMAS SIDM 0.1'),\n",
    "    (vrms_SIDM03b,   'orange',   'BAHAMAS SIDM 0.3'),\n",
    "    (vrms_SIDM1b,   'black',   'BAHAMAS SIDM 1.0'),\n",
    "    (vrms_vdSIDMb,'blue',  'BAHAMAS vdSIDM'),\n",
    "    (vrms_tng, 'purple',  'TNG'),\n",
    "]:\n",
    "    x_mean, x_std, y, y_err, _ = binned_mass_function(data, bins, mode=\"cumulative\", n_hosts=data.shape[0])\n",
    "\n",
    "    # points with both horizontal (std in bin) and vertical (Poisson on density) errors\n",
    "    ax2.errorbar(x_mean, y, xerr=x_std, yerr=y_err,\n",
    "                 fmt='o', ms=3, capsize=2, elinewidth=1,\n",
    "                 color=color, label=label, linestyle='none', alpha=0.9)\n",
    "\n",
    "ax1.set_yscale('log')\n",
    "ax2.set_yscale('log')\n",
    "\n",
    "ax1.set_ylabel('N(> $V_{max}$)', fontsize = 15)\n",
    "ax1.set_xlabel(r'Subhalo $V_{max}$ [$km$ $s^{-1}$]', fontsize = 15)\n",
    "\n",
    "ax2.set_ylabel('N(> $\\sigma_v$)', fontsize = 15)\n",
    "ax2.set_xlabel(r'Subhalo $\\sigma_v$ [$km$ $s^{-1}$]', fontsize = 15)\n",
    "\n",
    "ax1.legend(loc='lower left')\n",
    "ax2.legend(loc='lower left')"
   ]
  },
  {
   "cell_type": "markdown",
   "metadata": {},
   "source": [
    "### Compare two different velocity dispersion ranges"
   ]
  },
  {
   "cell_type": "code",
   "execution_count": null,
   "metadata": {},
   "outputs": [],
   "source": [
    "num_bins = 50\n",
    "bins = np.linspace(0, 100, num_bins)\n",
    "\n",
    "fig, (ax1, ax2) = plt.subplots(1, 2, figsize=(12, 5), sharey=True)\n",
    "plt.subplots_adjust(wspace=0.25)\n",
    "\n",
    "### Left plot: cumulative max circular velocity function\n",
    "\n",
    "for data, color, label in [\n",
    "    (vrms_CDMb,   'red',   'BAHAMAS CDM'),\n",
    "    (vrms_SIDM01b,   'green',   'BAHAMAS SIDM 0.1'),\n",
    "    (vrms_SIDM03b,   'orange',   'BAHAMAS SIDM 0.3'),\n",
    "    (vrms_SIDM1b,   'black',   'BAHAMAS SIDM 1.0'),\n",
    "    (vrms_vdSIDMb,'blue',  'BAHAMAS vdSIDM'),\n",
    "    (vrms_tng, 'purple',  'TNG'),\n",
    "]:\n",
    "    x_mean, x_std, y, y_err, _ = binned_mass_function(data, bins, mode=\"cumulative\", n_hosts=data.shape[0])\n",
    "    # points with both horizontal (std in bin) and vertical (Poisson on density) errors\n",
    "    ax1.errorbar(x_mean, y, xerr=x_std, yerr=y_err,\n",
    "                 fmt='o', ms=3, capsize=2, elinewidth=1,\n",
    "                 color=color, label=label, linestyle='none', alpha=0.9)\n",
    "\n",
    "bins = np.linspace(100, 200, num_bins)\n",
    "\n",
    "### Right plot: cumulative velocity dispersion function\n",
    "\n",
    "for data, color, label in [\n",
    "    (vrms_CDMb,   'red',   'BAHAMAS CDM'),\n",
    "    (vrms_SIDM01b,   'green',   'BAHAMAS SIDM 0.1'),\n",
    "    (vrms_SIDM03b,   'orange',   'BAHAMAS SIDM 0.3'),\n",
    "    (vrms_SIDM1b,   'black',   'BAHAMAS SIDM 1.0'),\n",
    "    (vrms_vdSIDMb,'blue',  'BAHAMAS vdSIDM'),\n",
    "    (vrms_tng, 'purple',  'TNG'),\n",
    "]:\n",
    "    x_mean, x_std, y, y_err, _ = binned_mass_function(data, bins, mode=\"cumulative\", n_hosts=data.shape[0])\n",
    "    # points with both horizontal (std in bin) and vertical (Poisson on density) errors\n",
    "    ax2.errorbar(x_mean, y, xerr=x_std, yerr=y_err,\n",
    "                 fmt='o', ms=3, capsize=2, elinewidth=1,\n",
    "                 color=color, label=label, linestyle='none', alpha=0.9)\n",
    "\n",
    "ax1.set_yscale('log')\n",
    "ax2.set_yscale('log')\n",
    "\n",
    "ax1.set_ylabel('N(> $\\sigma_v$)', fontsize = 15)\n",
    "ax1.set_xlabel(r'Subhalo $\\sigma_v$ [$km$ $s^{-1}$]', fontsize = 15)\n",
    "\n",
    "ax2.set_ylabel('N(> $\\sigma_v$)', fontsize = 15)\n",
    "ax2.set_xlabel(r'Subhalo $\\sigma_v$ [$km$ $s^{-1}$]', fontsize = 15)\n",
    "\n",
    "ax1.legend(loc='lower left')\n",
    "ax2.legend(loc='lower left')"
   ]
  },
  {
   "cell_type": "markdown",
   "metadata": {},
   "source": [
    "### Compare tow different mass ranges"
   ]
  },
  {
   "cell_type": "code",
   "execution_count": null,
   "metadata": {},
   "outputs": [],
   "source": [
    "num_bins = 50\n",
    "bins = np.linspace(11.5, 11.8, num_bins)\n",
    "\n",
    "fig, (ax1, ax2) = plt.subplots(1, 2, figsize=(12, 5), sharey=False)\n",
    "plt.subplots_adjust(wspace=0.25)\n",
    "\n",
    "### Left plot: cumulative max circular velocity function\n",
    "\n",
    "for data, color, label in [\n",
    "    (mass_CDMb,   'red',   'BAHAMAS CDM'),\n",
    "    (mass_SIDM01b,   'green',   'BAHAMAS SIDM 0.1'),\n",
    "    (mass_SIDM03b,   'orange',   'BAHAMAS SIDM 0.3'),\n",
    "    (mass_SIDM1b,   'black',   'BAHAMAS SIDM 1.0'),\n",
    "    (mass_vdSIDMb,'blue',  'BAHAMAS vdSIDM'),\n",
    "    (mass_tng, 'purple',  'TNG'),\n",
    "]:\n",
    "    x_mean, x_std, y, y_err, _ = binned_mass_function(data, bins, mode=\"cumulative\", n_hosts=data.shape[0])\n",
    "    # points with both horizontal (std in bin) and vertical (Poisson on density) errors\n",
    "    ax1.errorbar(x_mean, y, xerr=x_std, yerr=y_err,\n",
    "                 fmt='o', ms=3, capsize=2, elinewidth=1,\n",
    "                 color=color, label=label, linestyle='none', alpha=0.9)\n",
    "\n",
    "bins = np.linspace(11.9, 12.15, num_bins)\n",
    "\n",
    "### Right plot: cumulative velocity dispersion function\n",
    "\n",
    "for data, color, label in [\n",
    "    (mass_CDMb,   'red',   'BAHAMAS CDM'),\n",
    "    (mass_SIDM01b,   'green',   'BAHAMAS SIDM 0.1'),\n",
    "    (mass_SIDM03b,   'orange',   'BAHAMAS SIDM 0.3'),\n",
    "    (mass_SIDM1b,   'black',   'BAHAMAS SIDM 1.0'),\n",
    "    (mass_vdSIDMb,'blue',  'BAHAMAS vdSIDM'),\n",
    "    (mass_tng, 'purple',  'TNG'),\n",
    "]:\n",
    "    x_mean, x_std, y, y_err, _ = binned_mass_function(data, bins, mode=\"cumulative\", n_hosts=data.shape[0])\n",
    "    # points with both horizontal (std in bin) and vertical (Poisson on density) errors\n",
    "    ax2.errorbar(x_mean, y, xerr=x_std, yerr=y_err,\n",
    "                 fmt='o', ms=3, capsize=2, elinewidth=1,\n",
    "                 color=color, label=label, linestyle='none', alpha=0.9)\n",
    "\n",
    "ax1.set_yscale('log')\n",
    "ax2.set_yscale('log')\n",
    "\n",
    "ax1.set_ylabel('N(> $\\log(M_{\\odot})$)', fontsize = 15)\n",
    "ax1.set_xlabel(r'Subhalo Mass [$\\log(M_{\\odot})$]', fontsize = 15)\n",
    "\n",
    "ax2.set_ylabel('N(> $\\log(M_{\\odot})$)', fontsize = 15)\n",
    "ax2.set_xlabel(r'Subhalo Mass [$\\log(M_{\\odot})$]', fontsize = 15)\n",
    "\n",
    "ax1.legend(loc='lower left')\n",
    "ax2.legend(loc='lower left')"
   ]
  },
  {
   "cell_type": "markdown",
   "metadata": {},
   "source": [
    "# DS+ and Virial Theorem plots"
   ]
  },
  {
   "cell_type": "code",
   "execution_count": null,
   "metadata": {},
   "outputs": [],
   "source": [
    "cluster = 3\n",
    "\n",
    "pos, vel, groups, subhalo_masses, h, halo_mass = TNG_DA.get_cluster_props(cluster)"
   ]
  },
  {
   "cell_type": "markdown",
   "metadata": {},
   "source": [
    "### Import Data"
   ]
  },
  {
   "cell_type": "code",
   "execution_count": null,
   "metadata": {},
   "outputs": [],
   "source": [
    "df_path = \"/home/habjan.e/TNG/Data/data_DS+_virial_results/DS+_Virial_df.csv\"\n",
    "df = pd.read_csv(df_path)\n",
    "\n",
    "subhalo_masses = np.load('/home/habjan.e/TNG/Data/data_DS+_virial_results/subhalo_masses.npy')\n",
    "dsp_out_1 = np.load('/home/habjan.e/TNG/Data/data_DS+_virial_results/DS+_array_1.npy')\n",
    "dsp_out_2 = np.load('/home/habjan.e/TNG/Data/data_DS+_virial_results/DS+_array_2.npy')"
   ]
  },
  {
   "cell_type": "markdown",
   "metadata": {},
   "source": [
    "### Make array of projections"
   ]
  },
  {
   "cell_type": "code",
   "execution_count": null,
   "metadata": {},
   "outputs": [],
   "source": [
    "x_proj = np.array(df['Projection x-Direction'])\n",
    "y_proj = np.array(df['Projection y-Direction'])\n",
    "z_proj = np.array(df['Projection z-Direction'])\n",
    "\n",
    "df_proj_arr = np.transpose(np.array([x_proj, y_proj, z_proj]))"
   ]
  },
  {
   "cell_type": "markdown",
   "metadata": {},
   "source": [
    "### Make a histogram of the Virial mass estimates of the cluster"
   ]
  },
  {
   "cell_type": "code",
   "execution_count": null,
   "metadata": {},
   "outputs": [],
   "source": [
    "virial_cluster_mass = np.array(df['Virial Halo Mass'])\n",
    "\n",
    "bins = np.linspace(np.nanmin(virial_cluster_mass), np.nanmax(virial_cluster_mass), 50)\n",
    "\n",
    "plt.hist(virial_cluster_mass, color='blue', bins=bins);\n",
    "plt.axvline(halo_mass, c='k', linestyle='--', label='TNG Cluster Mass')\n",
    "\n",
    "plt.ylabel('Count')\n",
    "plt.xlabel(r'Virial Theorem Mass [$M_{\\odot}$]')\n",
    "\n",
    "#plt.yscale('log')\n",
    "\n",
    "plt.legend()"
   ]
  },
  {
   "cell_type": "markdown",
   "metadata": {},
   "source": [
    "### Compare position distributions"
   ]
  },
  {
   "cell_type": "code",
   "execution_count": null,
   "metadata": {},
   "outputs": [],
   "source": [
    "bins = np.linspace(np.nanmin(pos), np.nanmax(pos), 50)\n",
    "\n",
    "plt.hist(pos[:, 1], color='red', bins=bins);\n",
    "plt.hist(pos[:, 2], color='green', bins=bins);\n",
    "plt.hist(pos[:, 0], color='blue', bins=bins);"
   ]
  },
  {
   "cell_type": "markdown",
   "metadata": {},
   "source": [
    "### Quantifying Trixiality"
   ]
  },
  {
   "cell_type": "code",
   "execution_count": null,
   "metadata": {},
   "outputs": [],
   "source": [
    "tri_results = np.transpose(np.array([TNG_DA.compare_3d_2d_shape(pos, vel, df_proj_arr[i]) for i in range(len(df))]))\n",
    "\n",
    "shape_3d = tri_results[0]\n",
    "shape_2d = tri_results[1]\n",
    "tri_metric_arr = tri_results[2]\n",
    "T = tri_results[3, 0]"
   ]
  },
  {
   "cell_type": "markdown",
   "metadata": {},
   "source": [
    "### Calculate differences in true 3D velocity dispersion and assumed los velocity dispersion"
   ]
  },
  {
   "cell_type": "code",
   "execution_count": null,
   "metadata": {},
   "outputs": [],
   "source": [
    "true_disp_x = np.sum((vel[:, 0] - np.mean(vel[:, 0]))**2) / len(vel[:, 0])\n",
    "true_disp_y = np.sum((vel[:, 1] - np.mean(vel[:, 1]))**2) / len(vel[:, 1])\n",
    "true_disp_z = np.sum((vel[:, 2] - np.mean(vel[:, 2]))**2) / len(vel[:, 2])\n",
    "true_vel_disp = np.sqrt(true_disp_x + true_disp_y + true_disp_z)\n",
    "\n",
    "los_velocities = np.array([TNG_DA.project_3d_to_2d(pos, vel, df_proj_arr[i])[1] for i in range(df_proj_arr.shape[0])])\n",
    "vel_los_disp = np.array([np.sqrt((1 / (len(los_velocities[i]) - 1)) * np.sum((los_velocities[i] - np.mean(los_velocities[i]))**2)) for i in range(los_velocities.shape[0])]) * np.sqrt(3)"
   ]
  },
  {
   "cell_type": "markdown",
   "metadata": {},
   "source": [
    "### Plot mass difference versus the triaxiality metric"
   ]
  },
  {
   "cell_type": "code",
   "execution_count": null,
   "metadata": {},
   "outputs": [],
   "source": [
    "vel_disp_diff = true_vel_disp - vel_los_disp\n",
    "\n",
    "plt.figure(figsize=(8, 6))\n",
    "\n",
    "sc = plt.scatter(tri_metric_arr, virial_cluster_mass, c=vel_disp_diff, cmap='viridis')\n",
    "plt.axhline(halo_mass, c='k', linestyle='--', label=r'TNG Halo Mass [$M_{\\odot}$]')\n",
    "\n",
    "cbar = plt.colorbar(sc)\n",
    "cbar.set_label(r'$\\sigma_{true} - \\sigma_{los}$ [$km s^{-1}$]', fontsize = 15)\n",
    "\n",
    "plt.xlabel(r'$ \\mathcal{S}_{2D} - \\mathcal{S}_{3D}$', fontsize = 15)\n",
    "plt.ylabel(r'Virial Theorem Mass [$M_{\\odot}$]', fontsize = 15)\n",
    "plt.legend()\n",
    "plt.yscale('log')"
   ]
  },
  {
   "cell_type": "code",
   "execution_count": null,
   "metadata": {},
   "outputs": [],
   "source": [
    "x = tri_metric_arr\n",
    "y = np.log10(virial_cluster_mass)\n",
    "\n",
    "num_bins = 20 \n",
    "bins = np.linspace(min(x), max(x), num_bins + 1)\n",
    "bin_indices = np.digitize(x, bins) - 1\n",
    "\n",
    "# Compute statistics per bin (mean, median, etc.)\n",
    "bin_means = np.array([np.mean(y[bin_indices == i]) if np.any(bin_indices == i) else np.nan for i in range(num_bins)])\n",
    "bin_std = np.array([np.std(y[bin_indices == i]) if np.any(bin_indices == i) else np.nan for i in range(num_bins)])\n",
    "bin_centers = (bins[:-1] + bins[1:]) / 2  # Compute bin centers\n",
    "\n",
    "# Plot original data as scatter\n",
    "plt.figure(figsize=(8, 6))\n",
    "plt.scatter(x, y, s=5, c ='k', alpha = 0.3)\n",
    "\n",
    "# Plot binned means as points or line\n",
    "plt.plot(bin_centers, bin_means, 'ro-', markersize=8)\n",
    "plt.fill_between(bin_centers, bin_means - bin_std, bin_means + bin_std, color='red', alpha=0.2)\n",
    "\n",
    "plt.xlabel(r'$ \\mathcal{S}_{2D} - \\mathcal{S}_{3D}$', fontsize = 15)\n",
    "plt.ylabel(r'Virial Theorem Mass [$log_{10}(M_{\\odot})$]', fontsize = 15)"
   ]
  },
  {
   "cell_type": "markdown",
   "metadata": {},
   "source": [
    "### Completeness"
   ]
  },
  {
   "cell_type": "code",
   "execution_count": null,
   "metadata": {},
   "outputs": [],
   "source": [
    "complete = np.array(df['Completeness'])\n",
    "complete_err = np.array(df['Completeness Uncertainty'])\n",
    "\n",
    "x = tri_metric_arr\n",
    "y = complete\n",
    "\n",
    "num_bins = 20 \n",
    "bins = np.linspace(min(x), max(x), num_bins + 1)\n",
    "bin_indices = np.digitize(x, bins) - 1\n",
    "\n",
    "# Compute statistics per bin (mean, median, etc.)\n",
    "bin_means = np.array([np.mean(y[bin_indices == i]) if np.any(bin_indices == i) else np.nan for i in range(num_bins)])\n",
    "bin_std = np.array([np.std(y[bin_indices == i]) if np.any(bin_indices == i) else np.nan for i in range(num_bins)])\n",
    "bin_centers = (bins[:-1] + bins[1:]) / 2  # Compute bin centers\n",
    "\n",
    "# Plot original data as scatter\n",
    "plt.figure(figsize=(8, 6))\n",
    "plt.scatter(x, y, s=5, c ='k', alpha = 0.3)\n",
    "\n",
    "# Plot binned means as points or line\n",
    "plt.plot(bin_centers, bin_means, 'ro-', markersize=8)\n",
    "plt.fill_between(bin_centers, bin_means - bin_std, bin_means + bin_std, color='red', alpha=0.3)\n",
    "\n",
    "plt.xlabel(r'$ \\mathcal{S}_{2D} - \\mathcal{S}_{3D}$', fontsize = 15)\n",
    "plt.ylabel('Completeness', fontsize = 15)"
   ]
  },
  {
   "cell_type": "markdown",
   "metadata": {},
   "source": [
    "### Purity"
   ]
  },
  {
   "cell_type": "code",
   "execution_count": null,
   "metadata": {},
   "outputs": [],
   "source": [
    "purity = np.array(df['Purity'])\n",
    "purity_err = np.array(df['Purity Uncertainty'])\n",
    "\n",
    "x = tri_metric_arr\n",
    "y = purity\n",
    "\n",
    "num_bins = 20 \n",
    "bins = np.linspace(min(x), max(x), num_bins + 1)\n",
    "bin_indices = np.digitize(x, bins) - 1\n",
    "\n",
    "# Compute statistics per bin (mean, median, etc.)\n",
    "bin_means = np.array([np.mean(y[bin_indices == i]) if np.any(bin_indices == i) else np.nan for i in range(num_bins)])\n",
    "bin_std = np.array([np.std(y[bin_indices == i]) if np.any(bin_indices == i) else np.nan for i in range(num_bins)])\n",
    "bin_centers = (bins[:-1] + bins[1:]) / 2  # Compute bin centers\n",
    "\n",
    "# Plot original data as scatter\n",
    "plt.figure(figsize=(8, 6))\n",
    "plt.scatter(x, y, s=5, c ='k', alpha = 0.3)\n",
    "\n",
    "# Plot binned means as points or line\n",
    "plt.plot(bin_centers, bin_means, 'ro-', markersize=8)\n",
    "plt.fill_between(bin_centers, bin_means - bin_std, bin_means + bin_std, color='red', alpha=0.3)\n",
    "\n",
    "plt.xlabel(r'$ \\mathcal{S}_{2D} - \\mathcal{S}_{3D}$', fontsize = 15)\n",
    "plt.ylabel('Purity', fontsize = 15)"
   ]
  }
 ],
 "metadata": {
  "kernelspec": {
   "display_name": "Python 3",
   "language": "python",
   "name": "python3"
  },
  "language_info": {
   "codemirror_mode": {
    "name": "ipython",
    "version": 3
   },
   "file_extension": ".py",
   "mimetype": "text/x-python",
   "name": "python",
   "nbconvert_exporter": "python",
   "pygments_lexer": "ipython3",
   "version": "3.11.13"
  },
  "orig_nbformat": 4
 },
 "nbformat": 4,
 "nbformat_minor": 2
}
