{
 "cells": [
  {
   "cell_type": "code",
   "execution_count": 2,
   "metadata": {},
   "outputs": [],
   "source": [
    "import TNG_DA\n",
    "import numpy as np \n",
    "import matplotlib.pyplot as plt\n",
    "import pandas as pd"
   ]
  },
  {
   "cell_type": "markdown",
   "metadata": {},
   "source": [
    "# DS+ and Virial Theorem plots"
   ]
  },
  {
   "cell_type": "markdown",
   "metadata": {},
   "source": [
    "### Import Data"
   ]
  },
  {
   "cell_type": "code",
   "execution_count": 3,
   "metadata": {},
   "outputs": [],
   "source": [
    "df_path = \"/work/mccleary_group/habjan.e/TNG/Data/data_DS+_virial_results/test_run.csv\"\n",
    "df = pd.read_csv(df_path)"
   ]
  },
  {
   "cell_type": "code",
   "execution_count": 4,
   "metadata": {},
   "outputs": [
    {
     "data": {
      "text/html": [
       "<div>\n",
       "<style scoped>\n",
       "    .dataframe tbody tr th:only-of-type {\n",
       "        vertical-align: middle;\n",
       "    }\n",
       "\n",
       "    .dataframe tbody tr th {\n",
       "        vertical-align: top;\n",
       "    }\n",
       "\n",
       "    .dataframe thead th {\n",
       "        text-align: right;\n",
       "    }\n",
       "</style>\n",
       "<table border=\"1\" class=\"dataframe\">\n",
       "  <thead>\n",
       "    <tr style=\"text-align: right;\">\n",
       "      <th></th>\n",
       "      <th>Cluster Index</th>\n",
       "      <th>TNG Position</th>\n",
       "      <th>TNG Velocity</th>\n",
       "      <th>TNG Group</th>\n",
       "      <th>TNG Subhalo Masses</th>\n",
       "      <th>TNG Halo Mass</th>\n",
       "      <th>Projection Vector</th>\n",
       "      <th>2D Position</th>\n",
       "      <th>LOS Velocity</th>\n",
       "      <th>DS+ Results</th>\n",
       "      <th>Completeness</th>\n",
       "      <th>Compltetenss Uncertainty</th>\n",
       "      <th>Purity</th>\n",
       "      <th>Purity Uncertainty</th>\n",
       "      <th>Virial Subhalo Masses</th>\n",
       "      <th>Virial Halo Mass</th>\n",
       "    </tr>\n",
       "  </thead>\n",
       "  <tbody>\n",
       "    <tr>\n",
       "      <th>0</th>\n",
       "      <td>3</td>\n",
       "      <td>[[ 0.00000000e+00  0.00000000e+00  0.00000000e...</td>\n",
       "      <td>[[ 4.79802971e+01 -1.55375153e+02 -1.75775787e...</td>\n",
       "      <td>{(3, 3, 3, 3, 3, 3, 3, 3, 3, 4, 4, 3, 3, 3, 3,...</td>\n",
       "      <td>[1.89451729e+15 5.36363878e+14 1.32330129e+13 ...</td>\n",
       "      <td>8.996702e+14</td>\n",
       "      <td>[0 0 1]</td>\n",
       "      <td>[[    0.            0.       ]\\n [-2445.101562...</td>\n",
       "      <td>[-1.75775787e+02 -8.17070312e+02 -1.65363245e+...</td>\n",
       "      <td>(array([[  0.,   0.,   3., ...,   1.,   0.,   ...</td>\n",
       "      <td>0.753846</td>\n",
       "      <td>[0.75384615 0.84615385 0.67692308 0.78461538 0...</td>\n",
       "      <td>0.314103</td>\n",
       "      <td>[0.32666667 0.32163743 0.29333333 0.31481481 0...</td>\n",
       "      <td>[3.61769851e+13 6.59553717e+10 1.52537797e+13 ...</td>\n",
       "      <td>1.068300e+15</td>\n",
       "    </tr>\n",
       "  </tbody>\n",
       "</table>\n",
       "</div>"
      ],
      "text/plain": [
       "   Cluster Index                                       TNG Position  \\\n",
       "0              3  [[ 0.00000000e+00  0.00000000e+00  0.00000000e...   \n",
       "\n",
       "                                        TNG Velocity  \\\n",
       "0  [[ 4.79802971e+01 -1.55375153e+02 -1.75775787e...   \n",
       "\n",
       "                                           TNG Group  \\\n",
       "0  {(3, 3, 3, 3, 3, 3, 3, 3, 3, 4, 4, 3, 3, 3, 3,...   \n",
       "\n",
       "                                  TNG Subhalo Masses  TNG Halo Mass  \\\n",
       "0  [1.89451729e+15 5.36363878e+14 1.32330129e+13 ...   8.996702e+14   \n",
       "\n",
       "  Projection Vector                                        2D Position  \\\n",
       "0           [0 0 1]  [[    0.            0.       ]\\n [-2445.101562...   \n",
       "\n",
       "                                        LOS Velocity  \\\n",
       "0  [-1.75775787e+02 -8.17070312e+02 -1.65363245e+...   \n",
       "\n",
       "                                         DS+ Results  Completeness  \\\n",
       "0  (array([[  0.,   0.,   3., ...,   1.,   0.,   ...      0.753846   \n",
       "\n",
       "                            Compltetenss Uncertainty    Purity  \\\n",
       "0  [0.75384615 0.84615385 0.67692308 0.78461538 0...  0.314103   \n",
       "\n",
       "                                  Purity Uncertainty  \\\n",
       "0  [0.32666667 0.32163743 0.29333333 0.31481481 0...   \n",
       "\n",
       "                               Virial Subhalo Masses  Virial Halo Mass  \n",
       "0  [3.61769851e+13 6.59553717e+10 1.52537797e+13 ...      1.068300e+15  "
      ]
     },
     "execution_count": 4,
     "metadata": {},
     "output_type": "execute_result"
    }
   ],
   "source": [
    "df"
   ]
  },
  {
   "cell_type": "code",
   "execution_count": null,
   "metadata": {},
   "outputs": [],
   "source": []
  }
 ],
 "metadata": {
  "kernelspec": {
   "display_name": "Python 3",
   "language": "python",
   "name": "python3"
  },
  "language_info": {
   "codemirror_mode": {
    "name": "ipython",
    "version": 3
   },
   "file_extension": ".py",
   "mimetype": "text/x-python",
   "name": "python",
   "nbconvert_exporter": "python",
   "pygments_lexer": "ipython3",
   "version": "3.12.4"
  },
  "orig_nbformat": 4
 },
 "nbformat": 4,
 "nbformat_minor": 2
}
